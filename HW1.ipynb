{
 "cells": [
  {
   "cell_type": "markdown",
   "metadata": {},
   "source": [
    "CSV File: NBA Championship Team Data"
   ]
  },
  {
   "cell_type": "code",
   "execution_count": 294,
   "metadata": {},
   "outputs": [],
   "source": [
    "import pandas as pd"
   ]
  },
  {
   "cell_type": "code",
   "execution_count": 295,
   "metadata": {},
   "outputs": [],
   "source": [
    "names = ['year','team', 'game', 'win', 'home', 'mp', 'fg', 'fga','fgp', 'tp', 'tpa', \n",
    "         'tpp', 'ft', 'fta', 'ftp', 'orb', 'drb', 'trb', 'ast', 'stl', 'blk', 'tov', 'pf', 'pts' ]\n",
    "nba_df = pd.read_csv(\"C:\\\\Users\\\\achri\\\\Downloads\\\\nba-finals-team-stats\\\\championsdata.csv\", header = None, names = names)"
   ]
  },
  {
   "cell_type": "code",
   "execution_count": 296,
   "metadata": {
    "scrolled": true
   },
   "outputs": [
    {
     "data": {
      "text/html": [
       "<div>\n",
       "<style scoped>\n",
       "    .dataframe tbody tr th:only-of-type {\n",
       "        vertical-align: middle;\n",
       "    }\n",
       "\n",
       "    .dataframe tbody tr th {\n",
       "        vertical-align: top;\n",
       "    }\n",
       "\n",
       "    .dataframe thead th {\n",
       "        text-align: right;\n",
       "    }\n",
       "</style>\n",
       "<table border=\"1\" class=\"dataframe\">\n",
       "  <thead>\n",
       "    <tr style=\"text-align: right;\">\n",
       "      <th></th>\n",
       "      <th>year</th>\n",
       "      <th>team</th>\n",
       "      <th>game</th>\n",
       "      <th>win</th>\n",
       "      <th>home</th>\n",
       "      <th>mp</th>\n",
       "      <th>fg</th>\n",
       "      <th>fga</th>\n",
       "      <th>fgp</th>\n",
       "      <th>tp</th>\n",
       "      <th>...</th>\n",
       "      <th>ftp</th>\n",
       "      <th>orb</th>\n",
       "      <th>drb</th>\n",
       "      <th>trb</th>\n",
       "      <th>ast</th>\n",
       "      <th>stl</th>\n",
       "      <th>blk</th>\n",
       "      <th>tov</th>\n",
       "      <th>pf</th>\n",
       "      <th>pts</th>\n",
       "    </tr>\n",
       "  </thead>\n",
       "  <tbody>\n",
       "    <tr>\n",
       "      <th>0</th>\n",
       "      <td>Year</td>\n",
       "      <td>Team</td>\n",
       "      <td>Game</td>\n",
       "      <td>Win</td>\n",
       "      <td>Home</td>\n",
       "      <td>MP</td>\n",
       "      <td>FG</td>\n",
       "      <td>FGA</td>\n",
       "      <td>FGP</td>\n",
       "      <td>TP</td>\n",
       "      <td>...</td>\n",
       "      <td>FTP</td>\n",
       "      <td>ORB</td>\n",
       "      <td>DRB</td>\n",
       "      <td>TRB</td>\n",
       "      <td>AST</td>\n",
       "      <td>STL</td>\n",
       "      <td>BLK</td>\n",
       "      <td>TOV</td>\n",
       "      <td>PF</td>\n",
       "      <td>PTS</td>\n",
       "    </tr>\n",
       "    <tr>\n",
       "      <th>1</th>\n",
       "      <td>1980</td>\n",
       "      <td>Lakers</td>\n",
       "      <td>1</td>\n",
       "      <td>1</td>\n",
       "      <td>1</td>\n",
       "      <td>240</td>\n",
       "      <td>48</td>\n",
       "      <td>89</td>\n",
       "      <td>0.539</td>\n",
       "      <td>0</td>\n",
       "      <td>...</td>\n",
       "      <td>0.867</td>\n",
       "      <td>12</td>\n",
       "      <td>31</td>\n",
       "      <td>43</td>\n",
       "      <td>30</td>\n",
       "      <td>5</td>\n",
       "      <td>9</td>\n",
       "      <td>17</td>\n",
       "      <td>24</td>\n",
       "      <td>109</td>\n",
       "    </tr>\n",
       "    <tr>\n",
       "      <th>2</th>\n",
       "      <td>1980</td>\n",
       "      <td>Lakers</td>\n",
       "      <td>2</td>\n",
       "      <td>0</td>\n",
       "      <td>1</td>\n",
       "      <td>240</td>\n",
       "      <td>48</td>\n",
       "      <td>95</td>\n",
       "      <td>0.505</td>\n",
       "      <td>0</td>\n",
       "      <td>...</td>\n",
       "      <td>0.667</td>\n",
       "      <td>15</td>\n",
       "      <td>37</td>\n",
       "      <td>52</td>\n",
       "      <td>32</td>\n",
       "      <td>12</td>\n",
       "      <td>7</td>\n",
       "      <td>26</td>\n",
       "      <td>27</td>\n",
       "      <td>104</td>\n",
       "    </tr>\n",
       "    <tr>\n",
       "      <th>3</th>\n",
       "      <td>1980</td>\n",
       "      <td>Lakers</td>\n",
       "      <td>3</td>\n",
       "      <td>1</td>\n",
       "      <td>0</td>\n",
       "      <td>240</td>\n",
       "      <td>44</td>\n",
       "      <td>92</td>\n",
       "      <td>0.478</td>\n",
       "      <td>0</td>\n",
       "      <td>...</td>\n",
       "      <td>0.767</td>\n",
       "      <td>22</td>\n",
       "      <td>34</td>\n",
       "      <td>56</td>\n",
       "      <td>20</td>\n",
       "      <td>5</td>\n",
       "      <td>5</td>\n",
       "      <td>20</td>\n",
       "      <td>25</td>\n",
       "      <td>111</td>\n",
       "    </tr>\n",
       "    <tr>\n",
       "      <th>4</th>\n",
       "      <td>1980</td>\n",
       "      <td>Lakers</td>\n",
       "      <td>4</td>\n",
       "      <td>0</td>\n",
       "      <td>0</td>\n",
       "      <td>240</td>\n",
       "      <td>44</td>\n",
       "      <td>93</td>\n",
       "      <td>0.473</td>\n",
       "      <td>0</td>\n",
       "      <td>...</td>\n",
       "      <td>0.737</td>\n",
       "      <td>18</td>\n",
       "      <td>31</td>\n",
       "      <td>49</td>\n",
       "      <td>23</td>\n",
       "      <td>12</td>\n",
       "      <td>6</td>\n",
       "      <td>19</td>\n",
       "      <td>22</td>\n",
       "      <td>102</td>\n",
       "    </tr>\n",
       "  </tbody>\n",
       "</table>\n",
       "<p>5 rows × 24 columns</p>\n",
       "</div>"
      ],
      "text/plain": [
       "   year    team  game  win  home   mp  fg  fga    fgp  tp ...     ftp  orb  \\\n",
       "0  Year    Team  Game  Win  Home   MP  FG  FGA    FGP  TP ...     FTP  ORB   \n",
       "1  1980  Lakers     1    1     1  240  48   89  0.539   0 ...   0.867   12   \n",
       "2  1980  Lakers     2    0     1  240  48   95  0.505   0 ...   0.667   15   \n",
       "3  1980  Lakers     3    1     0  240  44   92  0.478   0 ...   0.767   22   \n",
       "4  1980  Lakers     4    0     0  240  44   93  0.473   0 ...   0.737   18   \n",
       "\n",
       "   drb  trb  ast  stl  blk  tov  pf  pts  \n",
       "0  DRB  TRB  AST  STL  BLK  TOV  PF  PTS  \n",
       "1   31   43   30    5    9   17  24  109  \n",
       "2   37   52   32   12    7   26  27  104  \n",
       "3   34   56   20    5    5   20  25  111  \n",
       "4   31   49   23   12    6   19  22  102  \n",
       "\n",
       "[5 rows x 24 columns]"
      ]
     },
     "execution_count": 296,
     "metadata": {},
     "output_type": "execute_result"
    }
   ],
   "source": [
    "nba_df.head(5)"
   ]
  },
  {
   "cell_type": "code",
   "execution_count": 297,
   "metadata": {},
   "outputs": [],
   "source": [
    "nba_df = nba_df.drop([0])"
   ]
  },
  {
   "cell_type": "markdown",
   "metadata": {},
   "source": [
    "I dropped the first row because it doesn't add anything to the data, it is just a built in header."
   ]
  },
  {
   "cell_type": "code",
   "execution_count": 298,
   "metadata": {},
   "outputs": [],
   "source": [
    "cols = ['year', 'game','fgp', 'tpp', 'ftp','mp', 'fg', 'fga', 'tp', 'tpa', 'ft', 'fta',  'orb', 'drb', 'trb', 'ast', 'stl', 'blk', 'tov', 'pf', 'pts']\n",
    "nba_df[cols] = nba_df[cols].apply(pd.to_numeric, errors='coerce')"
   ]
  },
  {
   "cell_type": "markdown",
   "metadata": {},
   "source": [
    "I was having a hard time converting my data from objects to floats. I think it was because row [0] was a built-in header, so it added a string to every column. By using errors='coerce' I was able to drop the columns that couldn't be changed to numeric data. Below you can see that in all the columns that were converted to float data only 1 row was dropped. This was row [0]. The exception is TPP (Three Point Percentage), in the column 7 rows were dropped. I will solve this further down."
   ]
  },
  {
   "cell_type": "code",
   "execution_count": 299,
   "metadata": {},
   "outputs": [
    {
     "name": "stdout",
     "output_type": "stream",
     "text": [
      "<class 'pandas.core.frame.DataFrame'>\n",
      "Int64Index: 220 entries, 1 to 220\n",
      "Data columns (total 24 columns):\n",
      "year    220 non-null int64\n",
      "team    220 non-null object\n",
      "game    220 non-null int64\n",
      "win     220 non-null object\n",
      "home    220 non-null object\n",
      "mp      220 non-null int64\n",
      "fg      220 non-null int64\n",
      "fga     220 non-null int64\n",
      "fgp     220 non-null float64\n",
      "tp      220 non-null int64\n",
      "tpa     220 non-null int64\n",
      "tpp     214 non-null float64\n",
      "ft      220 non-null int64\n",
      "fta     220 non-null int64\n",
      "ftp     220 non-null float64\n",
      "orb     220 non-null int64\n",
      "drb     220 non-null int64\n",
      "trb     220 non-null int64\n",
      "ast     220 non-null int64\n",
      "stl     220 non-null int64\n",
      "blk     220 non-null int64\n",
      "tov     220 non-null int64\n",
      "pf      220 non-null int64\n",
      "pts     220 non-null int64\n",
      "dtypes: float64(3), int64(18), object(3)\n",
      "memory usage: 43.0+ KB\n"
     ]
    }
   ],
   "source": [
    "nba_df.info()"
   ]
  },
  {
   "cell_type": "code",
   "execution_count": 300,
   "metadata": {},
   "outputs": [
    {
     "data": {
      "text/plain": [
       "1      False\n",
       "2       True\n",
       "3       True\n",
       "4      False\n",
       "5      False\n",
       "6       True\n",
       "7       True\n",
       "8       True\n",
       "9       True\n",
       "10      True\n",
       "11      True\n",
       "12      True\n",
       "13     False\n",
       "14      True\n",
       "15      True\n",
       "16      True\n",
       "17      True\n",
       "18     False\n",
       "19     False\n",
       "20      True\n",
       "21      True\n",
       "22      True\n",
       "23      True\n",
       "24      True\n",
       "25      True\n",
       "26      True\n",
       "27      True\n",
       "28      True\n",
       "29      True\n",
       "30      True\n",
       "       ...  \n",
       "191     True\n",
       "192     True\n",
       "193     True\n",
       "194     True\n",
       "195     True\n",
       "196     True\n",
       "197     True\n",
       "198     True\n",
       "199     True\n",
       "200     True\n",
       "201     True\n",
       "202     True\n",
       "203     True\n",
       "204     True\n",
       "205     True\n",
       "206     True\n",
       "207     True\n",
       "208     True\n",
       "209     True\n",
       "210     True\n",
       "211     True\n",
       "212     True\n",
       "213     True\n",
       "214     True\n",
       "215     True\n",
       "216     True\n",
       "217     True\n",
       "218     True\n",
       "219     True\n",
       "220     True\n",
       "Name: tpp, Length: 220, dtype: bool"
      ]
     },
     "execution_count": 300,
     "metadata": {},
     "output_type": "execute_result"
    }
   ],
   "source": [
    "nba_df.tpp.notnull()"
   ]
  },
  {
   "cell_type": "code",
   "execution_count": 301,
   "metadata": {},
   "outputs": [
    {
     "name": "stdout",
     "output_type": "stream",
     "text": [
      "<class 'pandas.core.frame.DataFrame'>\n",
      "Int64Index: 214 entries, 2 to 220\n",
      "Data columns (total 24 columns):\n",
      "year    214 non-null int64\n",
      "team    214 non-null object\n",
      "game    214 non-null int64\n",
      "win     214 non-null object\n",
      "home    214 non-null object\n",
      "mp      214 non-null int64\n",
      "fg      214 non-null int64\n",
      "fga     214 non-null int64\n",
      "fgp     214 non-null float64\n",
      "tp      214 non-null int64\n",
      "tpa     214 non-null int64\n",
      "tpp     214 non-null float64\n",
      "ft      214 non-null int64\n",
      "fta     214 non-null int64\n",
      "ftp     214 non-null float64\n",
      "orb     214 non-null int64\n",
      "drb     214 non-null int64\n",
      "trb     214 non-null int64\n",
      "ast     214 non-null int64\n",
      "stl     214 non-null int64\n",
      "blk     214 non-null int64\n",
      "tov     214 non-null int64\n",
      "pf      214 non-null int64\n",
      "pts     214 non-null int64\n",
      "dtypes: float64(3), int64(18), object(3)\n",
      "memory usage: 41.8+ KB\n"
     ]
    }
   ],
   "source": [
    "nba_df = nba_df.dropna() \n",
    "nba_df.info()"
   ]
  },
  {
   "cell_type": "markdown",
   "metadata": {},
   "source": [
    "I decided to drop all the rows that were missing data for TPP. I think dropping them was a good decision because there were so few rows, 6, that it wouldn't make a huge difference in the analysis. Also, there are some games that are played where players do not take many three-point shots. And in the earlier years of the league the three-point shot wasn't utilized nearly as much as it is today. So, I feel good about dropping those six observations."
   ]
  },
  {
   "cell_type": "code",
   "execution_count": 302,
   "metadata": {
    "scrolled": true
   },
   "outputs": [
    {
     "data": {
      "text/html": [
       "<div>\n",
       "<style scoped>\n",
       "    .dataframe tbody tr th:only-of-type {\n",
       "        vertical-align: middle;\n",
       "    }\n",
       "\n",
       "    .dataframe tbody tr th {\n",
       "        vertical-align: top;\n",
       "    }\n",
       "\n",
       "    .dataframe thead th {\n",
       "        text-align: right;\n",
       "    }\n",
       "</style>\n",
       "<table border=\"1\" class=\"dataframe\">\n",
       "  <thead>\n",
       "    <tr style=\"text-align: right;\">\n",
       "      <th></th>\n",
       "      <th>year</th>\n",
       "      <th>game</th>\n",
       "      <th>mp</th>\n",
       "      <th>fg</th>\n",
       "      <th>fga</th>\n",
       "      <th>fgp</th>\n",
       "      <th>tp</th>\n",
       "      <th>tpa</th>\n",
       "      <th>tpp</th>\n",
       "      <th>ft</th>\n",
       "      <th>...</th>\n",
       "      <th>ftp</th>\n",
       "      <th>orb</th>\n",
       "      <th>drb</th>\n",
       "      <th>trb</th>\n",
       "      <th>ast</th>\n",
       "      <th>stl</th>\n",
       "      <th>blk</th>\n",
       "      <th>tov</th>\n",
       "      <th>pf</th>\n",
       "      <th>pts</th>\n",
       "    </tr>\n",
       "  </thead>\n",
       "  <tbody>\n",
       "    <tr>\n",
       "      <th>year</th>\n",
       "      <td>1.000000</td>\n",
       "      <td>-0.023568</td>\n",
       "      <td>0.026591</td>\n",
       "      <td>-0.350204</td>\n",
       "      <td>-0.320238</td>\n",
       "      <td>-0.170612</td>\n",
       "      <td>0.752126</td>\n",
       "      <td>0.813911</td>\n",
       "      <td>0.279260</td>\n",
       "      <td>-0.159291</td>\n",
       "      <td>...</td>\n",
       "      <td>0.033593</td>\n",
       "      <td>-0.348462</td>\n",
       "      <td>0.171403</td>\n",
       "      <td>-0.118614</td>\n",
       "      <td>-0.339809</td>\n",
       "      <td>-0.100288</td>\n",
       "      <td>-0.010258</td>\n",
       "      <td>-0.250300</td>\n",
       "      <td>-0.239669</td>\n",
       "      <td>-0.184558</td>\n",
       "    </tr>\n",
       "    <tr>\n",
       "      <th>game</th>\n",
       "      <td>-0.023568</td>\n",
       "      <td>1.000000</td>\n",
       "      <td>-0.116593</td>\n",
       "      <td>-0.094372</td>\n",
       "      <td>-0.072316</td>\n",
       "      <td>-0.056726</td>\n",
       "      <td>0.032519</td>\n",
       "      <td>0.016778</td>\n",
       "      <td>-0.004331</td>\n",
       "      <td>0.097272</td>\n",
       "      <td>...</td>\n",
       "      <td>-0.002473</td>\n",
       "      <td>0.028767</td>\n",
       "      <td>-0.062482</td>\n",
       "      <td>-0.027344</td>\n",
       "      <td>-0.123794</td>\n",
       "      <td>-0.009962</td>\n",
       "      <td>-0.125665</td>\n",
       "      <td>-0.027332</td>\n",
       "      <td>0.124489</td>\n",
       "      <td>-0.029326</td>\n",
       "    </tr>\n",
       "    <tr>\n",
       "      <th>mp</th>\n",
       "      <td>0.026591</td>\n",
       "      <td>-0.116593</td>\n",
       "      <td>1.000000</td>\n",
       "      <td>0.197296</td>\n",
       "      <td>0.394209</td>\n",
       "      <td>-0.091161</td>\n",
       "      <td>0.063293</td>\n",
       "      <td>0.057579</td>\n",
       "      <td>0.052886</td>\n",
       "      <td>-0.075530</td>\n",
       "      <td>...</td>\n",
       "      <td>0.009912</td>\n",
       "      <td>0.172692</td>\n",
       "      <td>0.009091</td>\n",
       "      <td>0.131035</td>\n",
       "      <td>0.065897</td>\n",
       "      <td>0.080019</td>\n",
       "      <td>0.031293</td>\n",
       "      <td>0.041061</td>\n",
       "      <td>0.164620</td>\n",
       "      <td>0.165663</td>\n",
       "    </tr>\n",
       "    <tr>\n",
       "      <th>fg</th>\n",
       "      <td>-0.350204</td>\n",
       "      <td>-0.094372</td>\n",
       "      <td>0.197296</td>\n",
       "      <td>1.000000</td>\n",
       "      <td>0.709860</td>\n",
       "      <td>0.713529</td>\n",
       "      <td>-0.120282</td>\n",
       "      <td>-0.261782</td>\n",
       "      <td>0.039665</td>\n",
       "      <td>-0.115374</td>\n",
       "      <td>...</td>\n",
       "      <td>0.053340</td>\n",
       "      <td>0.187923</td>\n",
       "      <td>0.085846</td>\n",
       "      <td>0.200951</td>\n",
       "      <td>0.717521</td>\n",
       "      <td>0.248392</td>\n",
       "      <td>0.073883</td>\n",
       "      <td>-0.018226</td>\n",
       "      <td>0.271351</td>\n",
       "      <td>0.843732</td>\n",
       "    </tr>\n",
       "    <tr>\n",
       "      <th>fga</th>\n",
       "      <td>-0.320238</td>\n",
       "      <td>-0.072316</td>\n",
       "      <td>0.394209</td>\n",
       "      <td>0.709860</td>\n",
       "      <td>1.000000</td>\n",
       "      <td>0.019087</td>\n",
       "      <td>-0.148599</td>\n",
       "      <td>-0.150256</td>\n",
       "      <td>-0.123949</td>\n",
       "      <td>-0.153894</td>\n",
       "      <td>...</td>\n",
       "      <td>0.047872</td>\n",
       "      <td>0.585831</td>\n",
       "      <td>0.055375</td>\n",
       "      <td>0.463368</td>\n",
       "      <td>0.457271</td>\n",
       "      <td>0.251741</td>\n",
       "      <td>0.058786</td>\n",
       "      <td>-0.028849</td>\n",
       "      <td>0.333679</td>\n",
       "      <td>0.543368</td>\n",
       "    </tr>\n",
       "    <tr>\n",
       "      <th>fgp</th>\n",
       "      <td>-0.170612</td>\n",
       "      <td>-0.056726</td>\n",
       "      <td>-0.091161</td>\n",
       "      <td>0.713529</td>\n",
       "      <td>0.019087</td>\n",
       "      <td>1.000000</td>\n",
       "      <td>-0.011676</td>\n",
       "      <td>-0.215699</td>\n",
       "      <td>0.184681</td>\n",
       "      <td>-0.008134</td>\n",
       "      <td>...</td>\n",
       "      <td>0.033350</td>\n",
       "      <td>-0.309990</td>\n",
       "      <td>0.059007</td>\n",
       "      <td>-0.177338</td>\n",
       "      <td>0.558374</td>\n",
       "      <td>0.109049</td>\n",
       "      <td>0.039846</td>\n",
       "      <td>0.004242</td>\n",
       "      <td>0.063042</td>\n",
       "      <td>0.661981</td>\n",
       "    </tr>\n",
       "    <tr>\n",
       "      <th>tp</th>\n",
       "      <td>0.752126</td>\n",
       "      <td>0.032519</td>\n",
       "      <td>0.063293</td>\n",
       "      <td>-0.120282</td>\n",
       "      <td>-0.148599</td>\n",
       "      <td>-0.011676</td>\n",
       "      <td>1.000000</td>\n",
       "      <td>0.882064</td>\n",
       "      <td>0.538219</td>\n",
       "      <td>-0.169107</td>\n",
       "      <td>...</td>\n",
       "      <td>0.014894</td>\n",
       "      <td>-0.338685</td>\n",
       "      <td>0.090358</td>\n",
       "      <td>-0.173862</td>\n",
       "      <td>-0.019885</td>\n",
       "      <td>-0.060456</td>\n",
       "      <td>-0.045836</td>\n",
       "      <td>-0.239857</td>\n",
       "      <td>-0.148294</td>\n",
       "      <td>0.100423</td>\n",
       "    </tr>\n",
       "    <tr>\n",
       "      <th>tpa</th>\n",
       "      <td>0.813911</td>\n",
       "      <td>0.016778</td>\n",
       "      <td>0.057579</td>\n",
       "      <td>-0.261782</td>\n",
       "      <td>-0.150256</td>\n",
       "      <td>-0.215699</td>\n",
       "      <td>0.882064</td>\n",
       "      <td>1.000000</td>\n",
       "      <td>0.233968</td>\n",
       "      <td>-0.193115</td>\n",
       "      <td>...</td>\n",
       "      <td>0.022065</td>\n",
       "      <td>-0.267700</td>\n",
       "      <td>0.092666</td>\n",
       "      <td>-0.121098</td>\n",
       "      <td>-0.175982</td>\n",
       "      <td>-0.086073</td>\n",
       "      <td>-0.044005</td>\n",
       "      <td>-0.242001</td>\n",
       "      <td>-0.143836</td>\n",
       "      <td>-0.079893</td>\n",
       "    </tr>\n",
       "    <tr>\n",
       "      <th>tpp</th>\n",
       "      <td>0.279260</td>\n",
       "      <td>-0.004331</td>\n",
       "      <td>0.052886</td>\n",
       "      <td>0.039665</td>\n",
       "      <td>-0.123949</td>\n",
       "      <td>0.184681</td>\n",
       "      <td>0.538219</td>\n",
       "      <td>0.233968</td>\n",
       "      <td>1.000000</td>\n",
       "      <td>-0.045968</td>\n",
       "      <td>...</td>\n",
       "      <td>-0.062409</td>\n",
       "      <td>-0.279714</td>\n",
       "      <td>-0.017004</td>\n",
       "      <td>-0.213993</td>\n",
       "      <td>0.066046</td>\n",
       "      <td>-0.001046</td>\n",
       "      <td>0.000665</td>\n",
       "      <td>-0.195835</td>\n",
       "      <td>0.016229</td>\n",
       "      <td>0.174953</td>\n",
       "    </tr>\n",
       "    <tr>\n",
       "      <th>ft</th>\n",
       "      <td>-0.159291</td>\n",
       "      <td>0.097272</td>\n",
       "      <td>-0.075530</td>\n",
       "      <td>-0.115374</td>\n",
       "      <td>-0.153894</td>\n",
       "      <td>-0.008134</td>\n",
       "      <td>-0.169107</td>\n",
       "      <td>-0.193115</td>\n",
       "      <td>-0.045968</td>\n",
       "      <td>1.000000</td>\n",
       "      <td>...</td>\n",
       "      <td>0.368699</td>\n",
       "      <td>0.031321</td>\n",
       "      <td>0.079011</td>\n",
       "      <td>0.083207</td>\n",
       "      <td>0.007108</td>\n",
       "      <td>0.049442</td>\n",
       "      <td>0.004308</td>\n",
       "      <td>-0.079882</td>\n",
       "      <td>0.152993</td>\n",
       "      <td>0.350020</td>\n",
       "    </tr>\n",
       "    <tr>\n",
       "      <th>fta</th>\n",
       "      <td>-0.169789</td>\n",
       "      <td>0.095115</td>\n",
       "      <td>-0.082154</td>\n",
       "      <td>-0.146405</td>\n",
       "      <td>-0.198854</td>\n",
       "      <td>-0.010466</td>\n",
       "      <td>-0.182343</td>\n",
       "      <td>-0.210586</td>\n",
       "      <td>-0.006742</td>\n",
       "      <td>0.913924</td>\n",
       "      <td>...</td>\n",
       "      <td>-0.016251</td>\n",
       "      <td>0.056282</td>\n",
       "      <td>0.070823</td>\n",
       "      <td>0.094845</td>\n",
       "      <td>-0.007647</td>\n",
       "      <td>0.025946</td>\n",
       "      <td>-0.015159</td>\n",
       "      <td>-0.037592</td>\n",
       "      <td>0.176491</td>\n",
       "      <td>0.273131</td>\n",
       "    </tr>\n",
       "    <tr>\n",
       "      <th>ftp</th>\n",
       "      <td>0.033593</td>\n",
       "      <td>-0.002473</td>\n",
       "      <td>0.009912</td>\n",
       "      <td>0.053340</td>\n",
       "      <td>0.047872</td>\n",
       "      <td>0.033350</td>\n",
       "      <td>0.014894</td>\n",
       "      <td>0.022065</td>\n",
       "      <td>-0.062409</td>\n",
       "      <td>0.368699</td>\n",
       "      <td>...</td>\n",
       "      <td>1.000000</td>\n",
       "      <td>-0.086048</td>\n",
       "      <td>0.058501</td>\n",
       "      <td>-0.016862</td>\n",
       "      <td>0.040030</td>\n",
       "      <td>0.038056</td>\n",
       "      <td>0.063473</td>\n",
       "      <td>-0.139590</td>\n",
       "      <td>-0.053976</td>\n",
       "      <td>0.242153</td>\n",
       "    </tr>\n",
       "    <tr>\n",
       "      <th>orb</th>\n",
       "      <td>-0.348462</td>\n",
       "      <td>0.028767</td>\n",
       "      <td>0.172692</td>\n",
       "      <td>0.187923</td>\n",
       "      <td>0.585831</td>\n",
       "      <td>-0.309990</td>\n",
       "      <td>-0.338685</td>\n",
       "      <td>-0.267700</td>\n",
       "      <td>-0.279714</td>\n",
       "      <td>0.031321</td>\n",
       "      <td>...</td>\n",
       "      <td>-0.086048</td>\n",
       "      <td>1.000000</td>\n",
       "      <td>-0.096351</td>\n",
       "      <td>0.644301</td>\n",
       "      <td>0.058055</td>\n",
       "      <td>0.125616</td>\n",
       "      <td>0.035213</td>\n",
       "      <td>0.271929</td>\n",
       "      <td>0.184879</td>\n",
       "      <td>0.090908</td>\n",
       "    </tr>\n",
       "    <tr>\n",
       "      <th>drb</th>\n",
       "      <td>0.171403</td>\n",
       "      <td>-0.062482</td>\n",
       "      <td>0.009091</td>\n",
       "      <td>0.085846</td>\n",
       "      <td>0.055375</td>\n",
       "      <td>0.059007</td>\n",
       "      <td>0.090358</td>\n",
       "      <td>0.092666</td>\n",
       "      <td>-0.017004</td>\n",
       "      <td>0.079011</td>\n",
       "      <td>...</td>\n",
       "      <td>0.058501</td>\n",
       "      <td>-0.096351</td>\n",
       "      <td>1.000000</td>\n",
       "      <td>0.699135</td>\n",
       "      <td>0.110950</td>\n",
       "      <td>-0.017105</td>\n",
       "      <td>0.294737</td>\n",
       "      <td>0.048141</td>\n",
       "      <td>-0.193572</td>\n",
       "      <td>0.147822</td>\n",
       "    </tr>\n",
       "    <tr>\n",
       "      <th>trb</th>\n",
       "      <td>-0.118614</td>\n",
       "      <td>-0.027344</td>\n",
       "      <td>0.131035</td>\n",
       "      <td>0.200951</td>\n",
       "      <td>0.463368</td>\n",
       "      <td>-0.177338</td>\n",
       "      <td>-0.173862</td>\n",
       "      <td>-0.121098</td>\n",
       "      <td>-0.213993</td>\n",
       "      <td>0.083207</td>\n",
       "      <td>...</td>\n",
       "      <td>-0.016862</td>\n",
       "      <td>0.644301</td>\n",
       "      <td>0.699135</td>\n",
       "      <td>1.000000</td>\n",
       "      <td>0.126951</td>\n",
       "      <td>0.077091</td>\n",
       "      <td>0.251755</td>\n",
       "      <td>0.232324</td>\n",
       "      <td>-0.015926</td>\n",
       "      <td>0.178881</td>\n",
       "    </tr>\n",
       "    <tr>\n",
       "      <th>ast</th>\n",
       "      <td>-0.339809</td>\n",
       "      <td>-0.123794</td>\n",
       "      <td>0.065897</td>\n",
       "      <td>0.717521</td>\n",
       "      <td>0.457271</td>\n",
       "      <td>0.558374</td>\n",
       "      <td>-0.019885</td>\n",
       "      <td>-0.175982</td>\n",
       "      <td>0.066046</td>\n",
       "      <td>0.007108</td>\n",
       "      <td>...</td>\n",
       "      <td>0.040030</td>\n",
       "      <td>0.058055</td>\n",
       "      <td>0.110950</td>\n",
       "      <td>0.126951</td>\n",
       "      <td>1.000000</td>\n",
       "      <td>0.256088</td>\n",
       "      <td>0.104347</td>\n",
       "      <td>-0.006600</td>\n",
       "      <td>0.126775</td>\n",
       "      <td>0.671027</td>\n",
       "    </tr>\n",
       "    <tr>\n",
       "      <th>stl</th>\n",
       "      <td>-0.100288</td>\n",
       "      <td>-0.009962</td>\n",
       "      <td>0.080019</td>\n",
       "      <td>0.248392</td>\n",
       "      <td>0.251741</td>\n",
       "      <td>0.109049</td>\n",
       "      <td>-0.060456</td>\n",
       "      <td>-0.086073</td>\n",
       "      <td>-0.001046</td>\n",
       "      <td>0.049442</td>\n",
       "      <td>...</td>\n",
       "      <td>0.038056</td>\n",
       "      <td>0.125616</td>\n",
       "      <td>-0.017105</td>\n",
       "      <td>0.077091</td>\n",
       "      <td>0.256088</td>\n",
       "      <td>1.000000</td>\n",
       "      <td>-0.050297</td>\n",
       "      <td>0.081730</td>\n",
       "      <td>0.038121</td>\n",
       "      <td>0.240169</td>\n",
       "    </tr>\n",
       "    <tr>\n",
       "      <th>blk</th>\n",
       "      <td>-0.010258</td>\n",
       "      <td>-0.125665</td>\n",
       "      <td>0.031293</td>\n",
       "      <td>0.073883</td>\n",
       "      <td>0.058786</td>\n",
       "      <td>0.039846</td>\n",
       "      <td>-0.045836</td>\n",
       "      <td>-0.044005</td>\n",
       "      <td>0.000665</td>\n",
       "      <td>0.004308</td>\n",
       "      <td>...</td>\n",
       "      <td>0.063473</td>\n",
       "      <td>0.035213</td>\n",
       "      <td>0.294737</td>\n",
       "      <td>0.251755</td>\n",
       "      <td>0.104347</td>\n",
       "      <td>-0.050297</td>\n",
       "      <td>1.000000</td>\n",
       "      <td>0.107763</td>\n",
       "      <td>0.009864</td>\n",
       "      <td>0.057807</td>\n",
       "    </tr>\n",
       "    <tr>\n",
       "      <th>tov</th>\n",
       "      <td>-0.250300</td>\n",
       "      <td>-0.027332</td>\n",
       "      <td>0.041061</td>\n",
       "      <td>-0.018226</td>\n",
       "      <td>-0.028849</td>\n",
       "      <td>0.004242</td>\n",
       "      <td>-0.239857</td>\n",
       "      <td>-0.242001</td>\n",
       "      <td>-0.195835</td>\n",
       "      <td>-0.079882</td>\n",
       "      <td>...</td>\n",
       "      <td>-0.139590</td>\n",
       "      <td>0.271929</td>\n",
       "      <td>0.048141</td>\n",
       "      <td>0.232324</td>\n",
       "      <td>-0.006600</td>\n",
       "      <td>0.081730</td>\n",
       "      <td>0.107763</td>\n",
       "      <td>1.000000</td>\n",
       "      <td>0.073211</td>\n",
       "      <td>-0.129562</td>\n",
       "    </tr>\n",
       "    <tr>\n",
       "      <th>pf</th>\n",
       "      <td>-0.239669</td>\n",
       "      <td>0.124489</td>\n",
       "      <td>0.164620</td>\n",
       "      <td>0.271351</td>\n",
       "      <td>0.333679</td>\n",
       "      <td>0.063042</td>\n",
       "      <td>-0.148294</td>\n",
       "      <td>-0.143836</td>\n",
       "      <td>0.016229</td>\n",
       "      <td>0.152993</td>\n",
       "      <td>...</td>\n",
       "      <td>-0.053976</td>\n",
       "      <td>0.184879</td>\n",
       "      <td>-0.193572</td>\n",
       "      <td>-0.015926</td>\n",
       "      <td>0.126775</td>\n",
       "      <td>0.038121</td>\n",
       "      <td>0.009864</td>\n",
       "      <td>0.073211</td>\n",
       "      <td>1.000000</td>\n",
       "      <td>0.288118</td>\n",
       "    </tr>\n",
       "    <tr>\n",
       "      <th>pts</th>\n",
       "      <td>-0.184558</td>\n",
       "      <td>-0.029326</td>\n",
       "      <td>0.165663</td>\n",
       "      <td>0.843732</td>\n",
       "      <td>0.543368</td>\n",
       "      <td>0.661981</td>\n",
       "      <td>0.100423</td>\n",
       "      <td>-0.079893</td>\n",
       "      <td>0.174953</td>\n",
       "      <td>0.350020</td>\n",
       "      <td>...</td>\n",
       "      <td>0.242153</td>\n",
       "      <td>0.090908</td>\n",
       "      <td>0.147822</td>\n",
       "      <td>0.178881</td>\n",
       "      <td>0.671027</td>\n",
       "      <td>0.240169</td>\n",
       "      <td>0.057807</td>\n",
       "      <td>-0.129562</td>\n",
       "      <td>0.288118</td>\n",
       "      <td>1.000000</td>\n",
       "    </tr>\n",
       "  </tbody>\n",
       "</table>\n",
       "<p>21 rows × 21 columns</p>\n",
       "</div>"
      ],
      "text/plain": [
       "          year      game        mp        fg       fga       fgp        tp  \\\n",
       "year  1.000000 -0.023568  0.026591 -0.350204 -0.320238 -0.170612  0.752126   \n",
       "game -0.023568  1.000000 -0.116593 -0.094372 -0.072316 -0.056726  0.032519   \n",
       "mp    0.026591 -0.116593  1.000000  0.197296  0.394209 -0.091161  0.063293   \n",
       "fg   -0.350204 -0.094372  0.197296  1.000000  0.709860  0.713529 -0.120282   \n",
       "fga  -0.320238 -0.072316  0.394209  0.709860  1.000000  0.019087 -0.148599   \n",
       "fgp  -0.170612 -0.056726 -0.091161  0.713529  0.019087  1.000000 -0.011676   \n",
       "tp    0.752126  0.032519  0.063293 -0.120282 -0.148599 -0.011676  1.000000   \n",
       "tpa   0.813911  0.016778  0.057579 -0.261782 -0.150256 -0.215699  0.882064   \n",
       "tpp   0.279260 -0.004331  0.052886  0.039665 -0.123949  0.184681  0.538219   \n",
       "ft   -0.159291  0.097272 -0.075530 -0.115374 -0.153894 -0.008134 -0.169107   \n",
       "fta  -0.169789  0.095115 -0.082154 -0.146405 -0.198854 -0.010466 -0.182343   \n",
       "ftp   0.033593 -0.002473  0.009912  0.053340  0.047872  0.033350  0.014894   \n",
       "orb  -0.348462  0.028767  0.172692  0.187923  0.585831 -0.309990 -0.338685   \n",
       "drb   0.171403 -0.062482  0.009091  0.085846  0.055375  0.059007  0.090358   \n",
       "trb  -0.118614 -0.027344  0.131035  0.200951  0.463368 -0.177338 -0.173862   \n",
       "ast  -0.339809 -0.123794  0.065897  0.717521  0.457271  0.558374 -0.019885   \n",
       "stl  -0.100288 -0.009962  0.080019  0.248392  0.251741  0.109049 -0.060456   \n",
       "blk  -0.010258 -0.125665  0.031293  0.073883  0.058786  0.039846 -0.045836   \n",
       "tov  -0.250300 -0.027332  0.041061 -0.018226 -0.028849  0.004242 -0.239857   \n",
       "pf   -0.239669  0.124489  0.164620  0.271351  0.333679  0.063042 -0.148294   \n",
       "pts  -0.184558 -0.029326  0.165663  0.843732  0.543368  0.661981  0.100423   \n",
       "\n",
       "           tpa       tpp        ft    ...          ftp       orb       drb  \\\n",
       "year  0.813911  0.279260 -0.159291    ...     0.033593 -0.348462  0.171403   \n",
       "game  0.016778 -0.004331  0.097272    ...    -0.002473  0.028767 -0.062482   \n",
       "mp    0.057579  0.052886 -0.075530    ...     0.009912  0.172692  0.009091   \n",
       "fg   -0.261782  0.039665 -0.115374    ...     0.053340  0.187923  0.085846   \n",
       "fga  -0.150256 -0.123949 -0.153894    ...     0.047872  0.585831  0.055375   \n",
       "fgp  -0.215699  0.184681 -0.008134    ...     0.033350 -0.309990  0.059007   \n",
       "tp    0.882064  0.538219 -0.169107    ...     0.014894 -0.338685  0.090358   \n",
       "tpa   1.000000  0.233968 -0.193115    ...     0.022065 -0.267700  0.092666   \n",
       "tpp   0.233968  1.000000 -0.045968    ...    -0.062409 -0.279714 -0.017004   \n",
       "ft   -0.193115 -0.045968  1.000000    ...     0.368699  0.031321  0.079011   \n",
       "fta  -0.210586 -0.006742  0.913924    ...    -0.016251  0.056282  0.070823   \n",
       "ftp   0.022065 -0.062409  0.368699    ...     1.000000 -0.086048  0.058501   \n",
       "orb  -0.267700 -0.279714  0.031321    ...    -0.086048  1.000000 -0.096351   \n",
       "drb   0.092666 -0.017004  0.079011    ...     0.058501 -0.096351  1.000000   \n",
       "trb  -0.121098 -0.213993  0.083207    ...    -0.016862  0.644301  0.699135   \n",
       "ast  -0.175982  0.066046  0.007108    ...     0.040030  0.058055  0.110950   \n",
       "stl  -0.086073 -0.001046  0.049442    ...     0.038056  0.125616 -0.017105   \n",
       "blk  -0.044005  0.000665  0.004308    ...     0.063473  0.035213  0.294737   \n",
       "tov  -0.242001 -0.195835 -0.079882    ...    -0.139590  0.271929  0.048141   \n",
       "pf   -0.143836  0.016229  0.152993    ...    -0.053976  0.184879 -0.193572   \n",
       "pts  -0.079893  0.174953  0.350020    ...     0.242153  0.090908  0.147822   \n",
       "\n",
       "           trb       ast       stl       blk       tov        pf       pts  \n",
       "year -0.118614 -0.339809 -0.100288 -0.010258 -0.250300 -0.239669 -0.184558  \n",
       "game -0.027344 -0.123794 -0.009962 -0.125665 -0.027332  0.124489 -0.029326  \n",
       "mp    0.131035  0.065897  0.080019  0.031293  0.041061  0.164620  0.165663  \n",
       "fg    0.200951  0.717521  0.248392  0.073883 -0.018226  0.271351  0.843732  \n",
       "fga   0.463368  0.457271  0.251741  0.058786 -0.028849  0.333679  0.543368  \n",
       "fgp  -0.177338  0.558374  0.109049  0.039846  0.004242  0.063042  0.661981  \n",
       "tp   -0.173862 -0.019885 -0.060456 -0.045836 -0.239857 -0.148294  0.100423  \n",
       "tpa  -0.121098 -0.175982 -0.086073 -0.044005 -0.242001 -0.143836 -0.079893  \n",
       "tpp  -0.213993  0.066046 -0.001046  0.000665 -0.195835  0.016229  0.174953  \n",
       "ft    0.083207  0.007108  0.049442  0.004308 -0.079882  0.152993  0.350020  \n",
       "fta   0.094845 -0.007647  0.025946 -0.015159 -0.037592  0.176491  0.273131  \n",
       "ftp  -0.016862  0.040030  0.038056  0.063473 -0.139590 -0.053976  0.242153  \n",
       "orb   0.644301  0.058055  0.125616  0.035213  0.271929  0.184879  0.090908  \n",
       "drb   0.699135  0.110950 -0.017105  0.294737  0.048141 -0.193572  0.147822  \n",
       "trb   1.000000  0.126951  0.077091  0.251755  0.232324 -0.015926  0.178881  \n",
       "ast   0.126951  1.000000  0.256088  0.104347 -0.006600  0.126775  0.671027  \n",
       "stl   0.077091  0.256088  1.000000 -0.050297  0.081730  0.038121  0.240169  \n",
       "blk   0.251755  0.104347 -0.050297  1.000000  0.107763  0.009864  0.057807  \n",
       "tov   0.232324 -0.006600  0.081730  0.107763  1.000000  0.073211 -0.129562  \n",
       "pf   -0.015926  0.126775  0.038121  0.009864  0.073211  1.000000  0.288118  \n",
       "pts   0.178881  0.671027  0.240169  0.057807 -0.129562  0.288118  1.000000  \n",
       "\n",
       "[21 rows x 21 columns]"
      ]
     },
     "execution_count": 302,
     "metadata": {},
     "output_type": "execute_result"
    }
   ],
   "source": [
    "nba_df.corr()"
   ]
  },
  {
   "cell_type": "code",
   "execution_count": 303,
   "metadata": {},
   "outputs": [
    {
     "data": {
      "text/html": [
       "<div>\n",
       "<style scoped>\n",
       "    .dataframe tbody tr th:only-of-type {\n",
       "        vertical-align: middle;\n",
       "    }\n",
       "\n",
       "    .dataframe tbody tr th {\n",
       "        vertical-align: top;\n",
       "    }\n",
       "\n",
       "    .dataframe thead th {\n",
       "        text-align: right;\n",
       "    }\n",
       "</style>\n",
       "<table border=\"1\" class=\"dataframe\">\n",
       "  <thead>\n",
       "    <tr style=\"text-align: right;\">\n",
       "      <th></th>\n",
       "      <th>year</th>\n",
       "      <th>game</th>\n",
       "      <th>mp</th>\n",
       "      <th>fg</th>\n",
       "      <th>fga</th>\n",
       "      <th>fgp</th>\n",
       "      <th>tp</th>\n",
       "      <th>tpa</th>\n",
       "      <th>tpp</th>\n",
       "      <th>ft</th>\n",
       "      <th>...</th>\n",
       "      <th>ftp</th>\n",
       "      <th>orb</th>\n",
       "      <th>drb</th>\n",
       "      <th>trb</th>\n",
       "      <th>ast</th>\n",
       "      <th>stl</th>\n",
       "      <th>blk</th>\n",
       "      <th>tov</th>\n",
       "      <th>pf</th>\n",
       "      <th>pts</th>\n",
       "    </tr>\n",
       "  </thead>\n",
       "  <tbody>\n",
       "    <tr>\n",
       "      <th>count</th>\n",
       "      <td>214.000000</td>\n",
       "      <td>214.000000</td>\n",
       "      <td>214.000000</td>\n",
       "      <td>214.000000</td>\n",
       "      <td>214.000000</td>\n",
       "      <td>214.000000</td>\n",
       "      <td>214.000000</td>\n",
       "      <td>214.000000</td>\n",
       "      <td>214.000000</td>\n",
       "      <td>214.000000</td>\n",
       "      <td>...</td>\n",
       "      <td>214.000000</td>\n",
       "      <td>214.000000</td>\n",
       "      <td>214.000000</td>\n",
       "      <td>214.000000</td>\n",
       "      <td>214.000000</td>\n",
       "      <td>214.000000</td>\n",
       "      <td>214.000000</td>\n",
       "      <td>214.000000</td>\n",
       "      <td>214.000000</td>\n",
       "      <td>214.000000</td>\n",
       "    </tr>\n",
       "    <tr>\n",
       "      <th>mean</th>\n",
       "      <td>1999.359813</td>\n",
       "      <td>3.411215</td>\n",
       "      <td>242.453271</td>\n",
       "      <td>37.528037</td>\n",
       "      <td>80.579439</td>\n",
       "      <td>0.465589</td>\n",
       "      <td>5.504673</td>\n",
       "      <td>15.014019</td>\n",
       "      <td>0.342168</td>\n",
       "      <td>19.920561</td>\n",
       "      <td>...</td>\n",
       "      <td>0.734336</td>\n",
       "      <td>12.154206</td>\n",
       "      <td>30.130841</td>\n",
       "      <td>42.285047</td>\n",
       "      <td>22.322430</td>\n",
       "      <td>7.803738</td>\n",
       "      <td>5.228972</td>\n",
       "      <td>13.556075</td>\n",
       "      <td>22.813084</td>\n",
       "      <td>100.481308</td>\n",
       "    </tr>\n",
       "    <tr>\n",
       "      <th>std</th>\n",
       "      <td>11.064746</td>\n",
       "      <td>1.722283</td>\n",
       "      <td>8.554447</td>\n",
       "      <td>6.252636</td>\n",
       "      <td>9.461101</td>\n",
       "      <td>0.054388</td>\n",
       "      <td>3.989126</td>\n",
       "      <td>9.223098</td>\n",
       "      <td>0.171087</td>\n",
       "      <td>6.781516</td>\n",
       "      <td>...</td>\n",
       "      <td>0.106490</td>\n",
       "      <td>4.589185</td>\n",
       "      <td>4.908714</td>\n",
       "      <td>6.388668</td>\n",
       "      <td>6.085754</td>\n",
       "      <td>2.935741</td>\n",
       "      <td>2.714749</td>\n",
       "      <td>3.783351</td>\n",
       "      <td>4.411106</td>\n",
       "      <td>13.325366</td>\n",
       "    </tr>\n",
       "    <tr>\n",
       "      <th>min</th>\n",
       "      <td>1980.000000</td>\n",
       "      <td>1.000000</td>\n",
       "      <td>240.000000</td>\n",
       "      <td>25.000000</td>\n",
       "      <td>62.000000</td>\n",
       "      <td>0.289000</td>\n",
       "      <td>0.000000</td>\n",
       "      <td>1.000000</td>\n",
       "      <td>0.000000</td>\n",
       "      <td>5.000000</td>\n",
       "      <td>...</td>\n",
       "      <td>0.368000</td>\n",
       "      <td>3.000000</td>\n",
       "      <td>16.000000</td>\n",
       "      <td>22.000000</td>\n",
       "      <td>11.000000</td>\n",
       "      <td>1.000000</td>\n",
       "      <td>0.000000</td>\n",
       "      <td>4.000000</td>\n",
       "      <td>12.000000</td>\n",
       "      <td>71.000000</td>\n",
       "    </tr>\n",
       "    <tr>\n",
       "      <th>25%</th>\n",
       "      <td>1990.000000</td>\n",
       "      <td>2.000000</td>\n",
       "      <td>240.000000</td>\n",
       "      <td>33.000000</td>\n",
       "      <td>75.000000</td>\n",
       "      <td>0.429000</td>\n",
       "      <td>2.000000</td>\n",
       "      <td>8.000000</td>\n",
       "      <td>0.250000</td>\n",
       "      <td>15.000000</td>\n",
       "      <td>...</td>\n",
       "      <td>0.667000</td>\n",
       "      <td>9.000000</td>\n",
       "      <td>27.000000</td>\n",
       "      <td>38.000000</td>\n",
       "      <td>18.000000</td>\n",
       "      <td>6.000000</td>\n",
       "      <td>3.000000</td>\n",
       "      <td>11.000000</td>\n",
       "      <td>20.000000</td>\n",
       "      <td>90.000000</td>\n",
       "    </tr>\n",
       "    <tr>\n",
       "      <th>50%</th>\n",
       "      <td>1999.000000</td>\n",
       "      <td>3.000000</td>\n",
       "      <td>240.000000</td>\n",
       "      <td>37.000000</td>\n",
       "      <td>80.000000</td>\n",
       "      <td>0.465000</td>\n",
       "      <td>5.000000</td>\n",
       "      <td>15.000000</td>\n",
       "      <td>0.358500</td>\n",
       "      <td>19.000000</td>\n",
       "      <td>...</td>\n",
       "      <td>0.739000</td>\n",
       "      <td>11.500000</td>\n",
       "      <td>30.000000</td>\n",
       "      <td>42.000000</td>\n",
       "      <td>21.000000</td>\n",
       "      <td>8.000000</td>\n",
       "      <td>5.000000</td>\n",
       "      <td>13.000000</td>\n",
       "      <td>23.000000</td>\n",
       "      <td>100.000000</td>\n",
       "    </tr>\n",
       "    <tr>\n",
       "      <th>75%</th>\n",
       "      <td>2009.000000</td>\n",
       "      <td>5.000000</td>\n",
       "      <td>240.000000</td>\n",
       "      <td>42.000000</td>\n",
       "      <td>86.000000</td>\n",
       "      <td>0.500000</td>\n",
       "      <td>8.000000</td>\n",
       "      <td>20.000000</td>\n",
       "      <td>0.444000</td>\n",
       "      <td>24.000000</td>\n",
       "      <td>...</td>\n",
       "      <td>0.817250</td>\n",
       "      <td>15.000000</td>\n",
       "      <td>33.000000</td>\n",
       "      <td>47.000000</td>\n",
       "      <td>26.000000</td>\n",
       "      <td>10.000000</td>\n",
       "      <td>7.000000</td>\n",
       "      <td>16.000000</td>\n",
       "      <td>26.000000</td>\n",
       "      <td>109.000000</td>\n",
       "    </tr>\n",
       "    <tr>\n",
       "      <th>max</th>\n",
       "      <td>2018.000000</td>\n",
       "      <td>7.000000</td>\n",
       "      <td>315.000000</td>\n",
       "      <td>56.000000</td>\n",
       "      <td>130.000000</td>\n",
       "      <td>0.617000</td>\n",
       "      <td>18.000000</td>\n",
       "      <td>43.000000</td>\n",
       "      <td>1.000000</td>\n",
       "      <td>43.000000</td>\n",
       "      <td>...</td>\n",
       "      <td>1.000000</td>\n",
       "      <td>27.000000</td>\n",
       "      <td>44.000000</td>\n",
       "      <td>59.000000</td>\n",
       "      <td>44.000000</td>\n",
       "      <td>18.000000</td>\n",
       "      <td>14.000000</td>\n",
       "      <td>26.000000</td>\n",
       "      <td>33.000000</td>\n",
       "      <td>141.000000</td>\n",
       "    </tr>\n",
       "  </tbody>\n",
       "</table>\n",
       "<p>8 rows × 21 columns</p>\n",
       "</div>"
      ],
      "text/plain": [
       "              year        game          mp          fg         fga  \\\n",
       "count   214.000000  214.000000  214.000000  214.000000  214.000000   \n",
       "mean   1999.359813    3.411215  242.453271   37.528037   80.579439   \n",
       "std      11.064746    1.722283    8.554447    6.252636    9.461101   \n",
       "min    1980.000000    1.000000  240.000000   25.000000   62.000000   \n",
       "25%    1990.000000    2.000000  240.000000   33.000000   75.000000   \n",
       "50%    1999.000000    3.000000  240.000000   37.000000   80.000000   \n",
       "75%    2009.000000    5.000000  240.000000   42.000000   86.000000   \n",
       "max    2018.000000    7.000000  315.000000   56.000000  130.000000   \n",
       "\n",
       "              fgp          tp         tpa         tpp          ft     ...      \\\n",
       "count  214.000000  214.000000  214.000000  214.000000  214.000000     ...       \n",
       "mean     0.465589    5.504673   15.014019    0.342168   19.920561     ...       \n",
       "std      0.054388    3.989126    9.223098    0.171087    6.781516     ...       \n",
       "min      0.289000    0.000000    1.000000    0.000000    5.000000     ...       \n",
       "25%      0.429000    2.000000    8.000000    0.250000   15.000000     ...       \n",
       "50%      0.465000    5.000000   15.000000    0.358500   19.000000     ...       \n",
       "75%      0.500000    8.000000   20.000000    0.444000   24.000000     ...       \n",
       "max      0.617000   18.000000   43.000000    1.000000   43.000000     ...       \n",
       "\n",
       "              ftp         orb         drb         trb         ast         stl  \\\n",
       "count  214.000000  214.000000  214.000000  214.000000  214.000000  214.000000   \n",
       "mean     0.734336   12.154206   30.130841   42.285047   22.322430    7.803738   \n",
       "std      0.106490    4.589185    4.908714    6.388668    6.085754    2.935741   \n",
       "min      0.368000    3.000000   16.000000   22.000000   11.000000    1.000000   \n",
       "25%      0.667000    9.000000   27.000000   38.000000   18.000000    6.000000   \n",
       "50%      0.739000   11.500000   30.000000   42.000000   21.000000    8.000000   \n",
       "75%      0.817250   15.000000   33.000000   47.000000   26.000000   10.000000   \n",
       "max      1.000000   27.000000   44.000000   59.000000   44.000000   18.000000   \n",
       "\n",
       "              blk         tov          pf         pts  \n",
       "count  214.000000  214.000000  214.000000  214.000000  \n",
       "mean     5.228972   13.556075   22.813084  100.481308  \n",
       "std      2.714749    3.783351    4.411106   13.325366  \n",
       "min      0.000000    4.000000   12.000000   71.000000  \n",
       "25%      3.000000   11.000000   20.000000   90.000000  \n",
       "50%      5.000000   13.000000   23.000000  100.000000  \n",
       "75%      7.000000   16.000000   26.000000  109.000000  \n",
       "max     14.000000   26.000000   33.000000  141.000000  \n",
       "\n",
       "[8 rows x 21 columns]"
      ]
     },
     "execution_count": 303,
     "metadata": {},
     "output_type": "execute_result"
    }
   ],
   "source": [
    "nba_df.describe()"
   ]
  },
  {
   "cell_type": "code",
   "execution_count": 304,
   "metadata": {},
   "outputs": [
    {
     "data": {
      "text/plain": [
       "Lakers       53\n",
       "Bulls        35\n",
       "Spurs        27\n",
       "Celtics      25\n",
       "Heat         17\n",
       "Pistons      14\n",
       "Warriors     14\n",
       "Rockets      11\n",
       "Cavaliers     7\n",
       "Mavericks     6\n",
       "Sixers        3\n",
       "Heat'         1\n",
       "Warriorrs     1\n",
       "Name: team, dtype: int64"
      ]
     },
     "execution_count": 304,
     "metadata": {},
     "output_type": "execute_result"
    }
   ],
   "source": [
    "nba_df['team'].value_counts()"
   ]
  },
  {
   "cell_type": "code",
   "execution_count": 305,
   "metadata": {},
   "outputs": [
    {
     "data": {
      "text/plain": [
       "Lakers       53\n",
       "Bulls        35\n",
       "Spurs        27\n",
       "Celtics      25\n",
       "Heat         18\n",
       "Warriors     15\n",
       "Pistons      14\n",
       "Rockets      11\n",
       "Cavaliers     7\n",
       "Mavericks     6\n",
       "Sixers        3\n",
       "Name: team, dtype: int64"
      ]
     },
     "execution_count": 305,
     "metadata": {},
     "output_type": "execute_result"
    }
   ],
   "source": [
    "nba_df['team'] = nba_df['team'].replace(to_replace = 'Warriorrs',value = 'Warriors')\n",
    "nba_df['team'] = nba_df['team'].replace(to_replace = \"Heat'\",value = 'Heat')\n",
    "nba_df['team'].value_counts()"
   ]
  },
  {
   "cell_type": "markdown",
   "metadata": {},
   "source": [
    "This was a simple and quick way to show how the NBA Championships are distributed among teams. It also showed me that I had a couple spelling errors in my data. One observation for the Warriors and one for the Heat were incorrect and I was able to find and replace these errors with the correct team name."
   ]
  },
  {
   "cell_type": "code",
   "execution_count": 306,
   "metadata": {},
   "outputs": [
    {
     "data": {
      "text/plain": [
       "team\n",
       "Bulls        0.728714\n",
       "Cavaliers    0.725714\n",
       "Celtics      0.776280\n",
       "Heat         0.718167\n",
       "Lakers       0.715642\n",
       "Mavericks    0.775167\n",
       "Pistons      0.737857\n",
       "Rockets      0.758818\n",
       "Sixers       0.698000\n",
       "Spurs        0.709481\n",
       "Warriors     0.781467\n",
       "Name: ftp, dtype: float64"
      ]
     },
     "execution_count": 306,
     "metadata": {},
     "output_type": "execute_result"
    }
   ],
   "source": [
    "nba_df.groupby(['team'])['ftp'].mean()"
   ]
  },
  {
   "cell_type": "code",
   "execution_count": 307,
   "metadata": {},
   "outputs": [
    {
     "data": {
      "text/plain": [
       "team\n",
       "Bulls        0.340029\n",
       "Cavaliers    0.328143\n",
       "Celtics      0.311000\n",
       "Heat         0.387500\n",
       "Lakers       0.315264\n",
       "Mavericks    0.410167\n",
       "Pistons      0.381500\n",
       "Rockets      0.339727\n",
       "Sixers       0.000000\n",
       "Spurs        0.386000\n",
       "Warriors     0.373733\n",
       "Name: tpp, dtype: float64"
      ]
     },
     "execution_count": 307,
     "metadata": {},
     "output_type": "execute_result"
    }
   ],
   "source": [
    "nba_df.groupby(['team'])['tpp'].mean()"
   ]
  },
  {
   "cell_type": "code",
   "execution_count": 308,
   "metadata": {},
   "outputs": [
    {
     "data": {
      "text/plain": [
       "<seaborn.axisgrid.JointGrid at 0x1bc3eb7eb38>"
      ]
     },
     "execution_count": 308,
     "metadata": {},
     "output_type": "execute_result"
    },
    {
     "data": {
      "image/png": "[encoded data removed]",
      "text/plain": [
       "<Figure size 432x432 with 3 Axes>"
      ]
     },
     "metadata": {},
     "output_type": "display_data"
    }
   ],
   "source": [
    "import seaborn as sns\n",
    "sns.jointplot(nba_df.tpp, nba_df.pts, kind=\"hex\", color = 'green')"
   ]
  },
  {
   "cell_type": "markdown",
   "metadata": {},
   "source": [
    "Here I wanted to see the relationship betwee total points and three point percentage. It is positive, as expected. But not as strong of a relationship as I would have expected."
   ]
  },
  {
   "cell_type": "code",
   "execution_count": 309,
   "metadata": {},
   "outputs": [
    {
     "data": {
      "text/plain": [
       "<seaborn.axisgrid.JointGrid at 0x1bc3eba8cf8>"
      ]
     },
     "execution_count": 309,
     "metadata": {},
     "output_type": "execute_result"
    },
    {
     "data": {
      "image/png": "[encoded data removed]",
      "text/plain": [
       "<Figure size 432x432 with 3 Axes>"
      ]
     },
     "metadata": {},
     "output_type": "display_data"
    }
   ],
   "source": [
    "sns.jointplot(nba_df.ftp, nba_df.pts, kind=\"hex\")"
   ]
  },
  {
   "cell_type": "markdown",
   "metadata": {},
   "source": [
    "Here I wanted to see the relationship between total points and free throw percentage. The relationship is stronger than the \n",
    "earlier graph. So maybe free throws are more important thatn three point shots. That is useful information to have as a coach or player."
   ]
  },
  {
   "cell_type": "code",
   "execution_count": 310,
   "metadata": {},
   "outputs": [
    {
     "data": {
      "text/plain": [
       "<matplotlib.axes._subplots.AxesSubplot at 0x1bc3ed4e128>"
      ]
     },
     "execution_count": 310,
     "metadata": {},
     "output_type": "execute_result"
    },
    {
     "data": {
      "image/png": "[encoded data removed]",
      "text/plain": [
       "<Figure size 432x288 with 1 Axes>"
      ]
     },
     "metadata": {},
     "output_type": "display_data"
    }
   ],
   "source": [
    "sns.violinplot(nba_df[['tpp']], color = 'green')"
   ]
  },
  {
   "cell_type": "code",
   "execution_count": 311,
   "metadata": {},
   "outputs": [
    {
     "data": {
      "text/plain": [
       "<matplotlib.axes._subplots.AxesSubplot at 0x1bc3c347668>"
      ]
     },
     "execution_count": 311,
     "metadata": {},
     "output_type": "execute_result"
    },
    {
     "data": {
      "image/png": "[encoded data removed]",
      "text/plain": [
       "<Figure size 432x288 with 1 Axes>"
      ]
     },
     "metadata": {},
     "output_type": "display_data"
    }
   ],
   "source": [
    "sns.violinplot(nba_df[['ftp']], color = 'blue')"
   ]
  },
  {
   "cell_type": "markdown",
   "metadata": {},
   "source": [
    "I wanted to try using the violin plot because it isn't used very often. It doesn't show anything new but it is a nice way to show the distribution of Free Throw Percentage and Three Point Percentage."
   ]
  },
  {
   "cell_type": "markdown",
   "metadata": {},
   "source": [
    "JSON DATA: CRIME"
   ]
  },
  {
   "cell_type": "code",
   "execution_count": 312,
   "metadata": {},
   "outputs": [],
   "source": [
    "import json\n",
    "import requests"
   ]
  },
  {
   "cell_type": "code",
   "execution_count": 313,
   "metadata": {},
   "outputs": [],
   "source": [
    "get_request = requests.get('http://api.nobelprize.org/v1/prize.json')"
   ]
  },
  {
   "cell_type": "code",
   "execution_count": 314,
   "metadata": {
    "scrolled": true
   },
   "outputs": [],
   "source": [
    "get_request.text;"
   ]
  },
  {
   "cell_type": "code",
   "execution_count": 315,
   "metadata": {},
   "outputs": [],
   "source": [
    "nobel_dict = json.loads(get_request.text)"
   ]
  },
  {
   "cell_type": "code",
   "execution_count": 316,
   "metadata": {},
   "outputs": [
    {
     "data": {
      "text/plain": [
       "dict_keys(['prizes'])"
      ]
     },
     "execution_count": 316,
     "metadata": {},
     "output_type": "execute_result"
    }
   ],
   "source": [
    "nobel_dict.keys()"
   ]
  },
  {
   "cell_type": "code",
   "execution_count": 317,
   "metadata": {},
   "outputs": [
    {
     "data": {
      "text/html": [
       "<div>\n",
       "<style scoped>\n",
       "    .dataframe tbody tr th:only-of-type {\n",
       "        vertical-align: middle;\n",
       "    }\n",
       "\n",
       "    .dataframe tbody tr th {\n",
       "        vertical-align: top;\n",
       "    }\n",
       "\n",
       "    .dataframe thead th {\n",
       "        text-align: right;\n",
       "    }\n",
       "</style>\n",
       "<table border=\"1\" class=\"dataframe\">\n",
       "  <thead>\n",
       "    <tr style=\"text-align: right;\">\n",
       "      <th></th>\n",
       "      <th>category</th>\n",
       "      <th>laureates</th>\n",
       "      <th>overallMotivation</th>\n",
       "      <th>year</th>\n",
       "    </tr>\n",
       "  </thead>\n",
       "  <tbody>\n",
       "    <tr>\n",
       "      <th>0</th>\n",
       "      <td>physics</td>\n",
       "      <td>[{'id': '960', 'firstname': 'Arthur', 'surname...</td>\n",
       "      <td>“for groundbreaking inventions in the field of...</td>\n",
       "      <td>2018</td>\n",
       "    </tr>\n",
       "    <tr>\n",
       "      <th>1</th>\n",
       "      <td>chemistry</td>\n",
       "      <td>[{'id': '963', 'firstname': 'Frances H.', 'sur...</td>\n",
       "      <td>NaN</td>\n",
       "      <td>2018</td>\n",
       "    </tr>\n",
       "    <tr>\n",
       "      <th>2</th>\n",
       "      <td>medicine</td>\n",
       "      <td>[{'id': '958', 'firstname': 'James P.', 'surna...</td>\n",
       "      <td>NaN</td>\n",
       "      <td>2018</td>\n",
       "    </tr>\n",
       "    <tr>\n",
       "      <th>3</th>\n",
       "      <td>peace</td>\n",
       "      <td>[{'id': '966', 'firstname': 'Denis', 'surname'...</td>\n",
       "      <td>NaN</td>\n",
       "      <td>2018</td>\n",
       "    </tr>\n",
       "    <tr>\n",
       "      <th>4</th>\n",
       "      <td>economics</td>\n",
       "      <td>[{'id': '968', 'firstname': 'William D.', 'sur...</td>\n",
       "      <td>NaN</td>\n",
       "      <td>2018</td>\n",
       "    </tr>\n",
       "  </tbody>\n",
       "</table>\n",
       "</div>"
      ],
      "text/plain": [
       "    category                                          laureates  \\\n",
       "0    physics  [{'id': '960', 'firstname': 'Arthur', 'surname...   \n",
       "1  chemistry  [{'id': '963', 'firstname': 'Frances H.', 'sur...   \n",
       "2   medicine  [{'id': '958', 'firstname': 'James P.', 'surna...   \n",
       "3      peace  [{'id': '966', 'firstname': 'Denis', 'surname'...   \n",
       "4  economics  [{'id': '968', 'firstname': 'William D.', 'sur...   \n",
       "\n",
       "                                   overallMotivation  year  \n",
       "0  “for groundbreaking inventions in the field of...  2018  \n",
       "1                                                NaN  2018  \n",
       "2                                                NaN  2018  \n",
       "3                                                NaN  2018  \n",
       "4                                                NaN  2018  "
      ]
     },
     "execution_count": 317,
     "metadata": {},
     "output_type": "execute_result"
    }
   ],
   "source": [
    "nobel_df = pd.DataFrame(nobel_dict['prizes'])\n",
    "nobel_df.head()"
   ]
  },
  {
   "cell_type": "markdown",
   "metadata": {},
   "source": [
    "I imported the JSON data and turned it into a data table. But the laureates column stayed in dictionary format. It must have been a dictionary inside of a dictionary. But I couldn't do any kind of analysis with the data this way. "
   ]
  },
  {
   "cell_type": "code",
   "execution_count": 318,
   "metadata": {},
   "outputs": [
    {
     "name": "stdout",
     "output_type": "stream",
     "text": [
      "                                                     0  \\\n",
      "0    {'id': '960', 'firstname': 'Arthur', 'surname'...   \n",
      "1    {'id': '963', 'firstname': 'Frances H.', 'surn...   \n",
      "2    {'id': '958', 'firstname': 'James P.', 'surnam...   \n",
      "3    {'id': '966', 'firstname': 'Denis', 'surname':...   \n",
      "4    {'id': '968', 'firstname': 'William D.', 'surn...   \n",
      "5    {'id': '941', 'firstname': 'Rainer', 'surname'...   \n",
      "6    {'id': '944', 'firstname': 'Jacques', 'surname...   \n",
      "7    {'id': '938', 'firstname': 'Jeffrey C.', 'surn...   \n",
      "8    {'id': '947', 'firstname': 'Kazuo', 'surname':...   \n",
      "9    {'id': '948', 'firstname': 'International Camp...   \n",
      "10   {'id': '949', 'firstname': 'Richard H.', 'surn...   \n",
      "11   {'id': '928', 'firstname': 'David J.', 'surnam...   \n",
      "12   {'id': '931', 'firstname': 'Jean-Pierre', 'sur...   \n",
      "13   {'id': '927', 'firstname': 'Yoshinori', 'surna...   \n",
      "14   {'id': '937', 'firstname': 'Bob', 'surname': '...   \n",
      "15   {'id': '934', 'firstname': 'Juan Manuel', 'sur...   \n",
      "16   {'id': '935', 'firstname': 'Oliver', 'surname'...   \n",
      "17   {'id': '919', 'firstname': 'Takaaki', 'surname...   \n",
      "18   {'id': '921', 'firstname': 'Tomas', 'surname':...   \n",
      "19   {'id': '916', 'firstname': 'William C.', 'surn...   \n",
      "20   {'id': '924', 'firstname': 'Svetlana', 'surnam...   \n",
      "21   {'id': '925', 'firstname': 'National Dialogue ...   \n",
      "22   {'id': '926', 'firstname': 'Angus', 'surname':...   \n",
      "23   {'id': '906', 'firstname': 'Isamu', 'surname':...   \n",
      "24   {'id': '909', 'firstname': 'Eric', 'surname': ...   \n",
      "25   {'id': '903', 'firstname': 'John', 'surname': ...   \n",
      "26   {'id': '912', 'firstname': 'Patrick', 'surname...   \n",
      "27   {'id': '913', 'firstname': 'Kailash', 'surname...   \n",
      "28   {'id': '915', 'firstname': 'Jean', 'surname': ...   \n",
      "29   {'id': '887', 'firstname': 'François', 'surnam...   \n",
      "..                                                 ...   \n",
      "560  {'id': '10', 'firstname': 'Joseph John', 'surn...   \n",
      "561  {'id': '165', 'firstname': 'Henri', 'surname':...   \n",
      "562  {'id': '298', 'firstname': 'Camillo', 'surname...   \n",
      "563  {'id': '576', 'firstname': 'Giosuè', 'surname'...   \n",
      "564  {'id': '470', 'firstname': 'Theodore', 'surnam...   \n",
      "565  {'id': '9', 'firstname': 'Philipp Eduard Anton...   \n",
      "566  {'id': '164', 'firstname': 'Johann Friedrich W...   \n",
      "567  {'id': '297', 'firstname': 'Robert', 'surname'...   \n",
      "568  {'id': '575', 'firstname': 'Henryk', 'surname'...   \n",
      "569  {'id': '468', 'firstname': 'Baroness Bertha So...   \n",
      "570  {'id': '8', 'firstname': 'Lord Rayleigh', 'sur...   \n",
      "571  {'id': '163', 'firstname': 'Sir William', 'sur...   \n",
      "572  {'id': '296', 'firstname': 'Ivan Petrovich', '...   \n",
      "573  {'id': '573', 'firstname': 'Frédéric', 'surnam...   \n",
      "574  {'id': '467', 'firstname': 'Institut de droit ...   \n",
      "575  {'id': '4', 'firstname': 'Antoine Henri', 'sur...   \n",
      "576  {'id': '162', 'firstname': 'Svante August', 's...   \n",
      "577  {'id': '295', 'firstname': 'Niels Ryberg', 'su...   \n",
      "578  {'id': '572', 'firstname': 'Bjørnstjerne Marti...   \n",
      "579  {'id': '466', 'firstname': 'William Randal', '...   \n",
      "580  {'id': '2', 'firstname': 'Hendrik Antoon', 'su...   \n",
      "581  {'id': '161', 'firstname': 'Hermann Emil', 'su...   \n",
      "582  {'id': '294', 'firstname': 'Ronald', 'surname'...   \n",
      "583  {'id': '571', 'firstname': 'Christian Matthias...   \n",
      "584  {'id': '464', 'firstname': 'Élie', 'surname': ...   \n",
      "585  {'id': '1', 'firstname': 'Wilhelm Conrad', 'su...   \n",
      "586  {'id': '160', 'firstname': 'Jacobus Henricus',...   \n",
      "587  {'id': '293', 'firstname': 'Emil Adolf', 'surn...   \n",
      "588  {'id': '569', 'firstname': 'Sully', 'surname':...   \n",
      "589  {'id': '462', 'firstname': 'Jean Henry', 'surn...   \n",
      "\n",
      "                                                     1  \\\n",
      "0    {'id': '961', 'firstname': 'Gérard', 'surname'...   \n",
      "1    {'id': '964', 'firstname': 'George P.', 'surna...   \n",
      "2    {'id': '959', 'firstname': 'Tasuku', 'surname'...   \n",
      "3    {'id': '967', 'firstname': 'Nadia', 'surname':...   \n",
      "4    {'id': '969', 'firstname': 'Paul M.', 'surname...   \n",
      "5    {'id': '942', 'firstname': 'Barry C.', 'surnam...   \n",
      "6    {'id': '945', 'firstname': 'Joachim', 'surname...   \n",
      "7    {'id': '939', 'firstname': 'Michael', 'surname...   \n",
      "8                                                 None   \n",
      "9                                                 None   \n",
      "10                                                None   \n",
      "11   {'id': '929', 'firstname': 'F. Duncan M.', 'su...   \n",
      "12   {'id': '932', 'firstname': 'Sir J. Fraser', 's...   \n",
      "13                                                None   \n",
      "14                                                None   \n",
      "15                                                None   \n",
      "16   {'id': '936', 'firstname': 'Bengt', 'surname':...   \n",
      "17   {'id': '920', 'firstname': 'Arthur B.', 'surna...   \n",
      "18   {'id': '922', 'firstname': 'Paul', 'surname': ...   \n",
      "19   {'id': '917', 'firstname': 'Satoshi', 'surname...   \n",
      "20                                                None   \n",
      "21                                                None   \n",
      "22                                                None   \n",
      "23   {'id': '907', 'firstname': 'Hiroshi', 'surname...   \n",
      "24   {'id': '910', 'firstname': 'Stefan W.', 'surna...   \n",
      "25   {'id': '904', 'firstname': 'May-Britt', 'surna...   \n",
      "26                                                None   \n",
      "27   {'id': '914', 'firstname': 'Malala', 'surname'...   \n",
      "28                                                None   \n",
      "29   {'id': '888', 'firstname': 'Peter W.', 'surnam...   \n",
      "..                                                 ...   \n",
      "560                                               None   \n",
      "561                                               None   \n",
      "562  {'id': '299', 'firstname': 'Santiago', 'surnam...   \n",
      "563                                               None   \n",
      "564                                               None   \n",
      "565                                               None   \n",
      "566                                               None   \n",
      "567                                               None   \n",
      "568                                               None   \n",
      "569                                               None   \n",
      "570                                               None   \n",
      "571                                               None   \n",
      "572                                               None   \n",
      "573  {'id': '574', 'firstname': 'José', 'surname': ...   \n",
      "574                                               None   \n",
      "575  {'id': '5', 'firstname': 'Pierre', 'surname': ...   \n",
      "576                                               None   \n",
      "577                                               None   \n",
      "578                                               None   \n",
      "579                                               None   \n",
      "580  {'id': '3', 'firstname': 'Pieter', 'surname': ...   \n",
      "581                                               None   \n",
      "582                                               None   \n",
      "583                                               None   \n",
      "584  {'id': '465', 'firstname': 'Charles Albert', '...   \n",
      "585                                               None   \n",
      "586                                               None   \n",
      "587                                               None   \n",
      "588                                               None   \n",
      "589  {'id': '463', 'firstname': 'Frédéric', 'surnam...   \n",
      "\n",
      "                                                     2  \n",
      "0    {'id': '962', 'firstname': 'Donna', 'surname':...  \n",
      "1    {'id': '965', 'firstname': 'Sir Gregory P.', '...  \n",
      "2                                                 None  \n",
      "3                                                 None  \n",
      "4                                                 None  \n",
      "5    {'id': '943', 'firstname': 'Kip S.', 'surname'...  \n",
      "6    {'id': '946', 'firstname': 'Richard', 'surname...  \n",
      "7    {'id': '940', 'firstname': 'Michael W.', 'surn...  \n",
      "8                                                 None  \n",
      "9                                                 None  \n",
      "10                                                None  \n",
      "11   {'id': '930', 'firstname': 'J. Michael', 'surn...  \n",
      "12   {'id': '933', 'firstname': 'Bernard L.', 'surn...  \n",
      "13                                                None  \n",
      "14                                                None  \n",
      "15                                                None  \n",
      "16                                                None  \n",
      "17                                                None  \n",
      "18   {'id': '923', 'firstname': 'Aziz', 'surname': ...  \n",
      "19   {'id': '918', 'firstname': 'Youyou', 'surname'...  \n",
      "20                                                None  \n",
      "21                                                None  \n",
      "22                                                None  \n",
      "23   {'id': '908', 'firstname': 'Shuji', 'surname':...  \n",
      "24   {'id': '911', 'firstname': 'William E.', 'surn...  \n",
      "25   {'id': '905', 'firstname': 'Edvard I.', 'surna...  \n",
      "26                                                None  \n",
      "27                                                None  \n",
      "28                                                None  \n",
      "29                                                None  \n",
      "..                                                 ...  \n",
      "560                                               None  \n",
      "561                                               None  \n",
      "562                                               None  \n",
      "563                                               None  \n",
      "564                                               None  \n",
      "565                                               None  \n",
      "566                                               None  \n",
      "567                                               None  \n",
      "568                                               None  \n",
      "569                                               None  \n",
      "570                                               None  \n",
      "571                                               None  \n",
      "572                                               None  \n",
      "573                                               None  \n",
      "574                                               None  \n",
      "575  {'id': '6', 'firstname': 'Marie', 'surname': '...  \n",
      "576                                               None  \n",
      "577                                               None  \n",
      "578                                               None  \n",
      "579                                               None  \n",
      "580                                               None  \n",
      "581                                               None  \n",
      "582                                               None  \n",
      "583                                               None  \n",
      "584                                               None  \n",
      "585                                               None  \n",
      "586                                               None  \n",
      "587                                               None  \n",
      "588                                               None  \n",
      "589                                               None  \n",
      "\n",
      "[590 rows x 3 columns]\n"
     ]
    }
   ],
   "source": [
    "la_df = pd.DataFrame(nobel_df['laureates'].values.tolist(), index=nobel_df.index)\n",
    "print (la_df)"
   ]
  },
  {
   "cell_type": "code",
   "execution_count": 319,
   "metadata": {},
   "outputs": [],
   "source": [
    "la_df = pd.DataFrame(la_df[0].tolist())"
   ]
  },
  {
   "cell_type": "code",
   "execution_count": 320,
   "metadata": {},
   "outputs": [
    {
     "data": {
      "text/html": [
       "<div>\n",
       "<style scoped>\n",
       "    .dataframe tbody tr th:only-of-type {\n",
       "        vertical-align: middle;\n",
       "    }\n",
       "\n",
       "    .dataframe tbody tr th {\n",
       "        vertical-align: top;\n",
       "    }\n",
       "\n",
       "    .dataframe thead th {\n",
       "        text-align: right;\n",
       "    }\n",
       "</style>\n",
       "<table border=\"1\" class=\"dataframe\">\n",
       "  <thead>\n",
       "    <tr style=\"text-align: right;\">\n",
       "      <th></th>\n",
       "      <th>firstname</th>\n",
       "      <th>id</th>\n",
       "      <th>motivation</th>\n",
       "      <th>share</th>\n",
       "      <th>surname</th>\n",
       "    </tr>\n",
       "  </thead>\n",
       "  <tbody>\n",
       "    <tr>\n",
       "      <th>0</th>\n",
       "      <td>Arthur</td>\n",
       "      <td>960</td>\n",
       "      <td>\"for the optical tweezers and their applicatio...</td>\n",
       "      <td>2</td>\n",
       "      <td>Ashkin</td>\n",
       "    </tr>\n",
       "    <tr>\n",
       "      <th>1</th>\n",
       "      <td>Frances H.</td>\n",
       "      <td>963</td>\n",
       "      <td>\"for the directed evolution of enzymes\"</td>\n",
       "      <td>2</td>\n",
       "      <td>Arnold</td>\n",
       "    </tr>\n",
       "    <tr>\n",
       "      <th>2</th>\n",
       "      <td>James P.</td>\n",
       "      <td>958</td>\n",
       "      <td>\"for their discovery of cancer therapy by inhi...</td>\n",
       "      <td>2</td>\n",
       "      <td>Allison</td>\n",
       "    </tr>\n",
       "    <tr>\n",
       "      <th>3</th>\n",
       "      <td>Denis</td>\n",
       "      <td>966</td>\n",
       "      <td>\"for their efforts to end the use of sexual vi...</td>\n",
       "      <td>2</td>\n",
       "      <td>Mukwege</td>\n",
       "    </tr>\n",
       "    <tr>\n",
       "      <th>4</th>\n",
       "      <td>William D.</td>\n",
       "      <td>968</td>\n",
       "      <td>\"for integrating climate change into long-run ...</td>\n",
       "      <td>2</td>\n",
       "      <td>Nordhaus</td>\n",
       "    </tr>\n",
       "  </tbody>\n",
       "</table>\n",
       "</div>"
      ],
      "text/plain": [
       "    firstname   id                                         motivation share  \\\n",
       "0      Arthur  960  \"for the optical tweezers and their applicatio...     2   \n",
       "1  Frances H.  963            \"for the directed evolution of enzymes\"     2   \n",
       "2    James P.  958  \"for their discovery of cancer therapy by inhi...     2   \n",
       "3       Denis  966  \"for their efforts to end the use of sexual vi...     2   \n",
       "4  William D.  968  \"for integrating climate change into long-run ...     2   \n",
       "\n",
       "    surname  \n",
       "0    Ashkin  \n",
       "1    Arnold  \n",
       "2   Allison  \n",
       "3   Mukwege  \n",
       "4  Nordhaus  "
      ]
     },
     "execution_count": 320,
     "metadata": {},
     "output_type": "execute_result"
    }
   ],
   "source": [
    "la_df.head()"
   ]
  },
  {
   "cell_type": "markdown",
   "metadata": {},
   "source": [
    "I had to separate \"laureates\" into its own data table, then sperate all the values into separate columns. This way I was able to break the data out of the dictionary format."
   ]
  },
  {
   "cell_type": "code",
   "execution_count": 321,
   "metadata": {},
   "outputs": [
    {
     "data": {
      "text/html": [
       "<div>\n",
       "<style scoped>\n",
       "    .dataframe tbody tr th:only-of-type {\n",
       "        vertical-align: middle;\n",
       "    }\n",
       "\n",
       "    .dataframe tbody tr th {\n",
       "        vertical-align: top;\n",
       "    }\n",
       "\n",
       "    .dataframe thead th {\n",
       "        text-align: right;\n",
       "    }\n",
       "</style>\n",
       "<table border=\"1\" class=\"dataframe\">\n",
       "  <thead>\n",
       "    <tr style=\"text-align: right;\">\n",
       "      <th></th>\n",
       "      <th>category</th>\n",
       "      <th>laureates</th>\n",
       "      <th>overallMotivation</th>\n",
       "      <th>year</th>\n",
       "      <th>firstname</th>\n",
       "      <th>id</th>\n",
       "      <th>motivation</th>\n",
       "      <th>share</th>\n",
       "      <th>surname</th>\n",
       "    </tr>\n",
       "  </thead>\n",
       "  <tbody>\n",
       "    <tr>\n",
       "      <th>0</th>\n",
       "      <td>physics</td>\n",
       "      <td>[{'id': '960', 'firstname': 'Arthur', 'surname...</td>\n",
       "      <td>“for groundbreaking inventions in the field of...</td>\n",
       "      <td>2018</td>\n",
       "      <td>Arthur</td>\n",
       "      <td>960</td>\n",
       "      <td>\"for the optical tweezers and their applicatio...</td>\n",
       "      <td>2</td>\n",
       "      <td>Ashkin</td>\n",
       "    </tr>\n",
       "    <tr>\n",
       "      <th>1</th>\n",
       "      <td>chemistry</td>\n",
       "      <td>[{'id': '963', 'firstname': 'Frances H.', 'sur...</td>\n",
       "      <td>NaN</td>\n",
       "      <td>2018</td>\n",
       "      <td>Frances H.</td>\n",
       "      <td>963</td>\n",
       "      <td>\"for the directed evolution of enzymes\"</td>\n",
       "      <td>2</td>\n",
       "      <td>Arnold</td>\n",
       "    </tr>\n",
       "    <tr>\n",
       "      <th>2</th>\n",
       "      <td>medicine</td>\n",
       "      <td>[{'id': '958', 'firstname': 'James P.', 'surna...</td>\n",
       "      <td>NaN</td>\n",
       "      <td>2018</td>\n",
       "      <td>James P.</td>\n",
       "      <td>958</td>\n",
       "      <td>\"for their discovery of cancer therapy by inhi...</td>\n",
       "      <td>2</td>\n",
       "      <td>Allison</td>\n",
       "    </tr>\n",
       "    <tr>\n",
       "      <th>3</th>\n",
       "      <td>peace</td>\n",
       "      <td>[{'id': '966', 'firstname': 'Denis', 'surname'...</td>\n",
       "      <td>NaN</td>\n",
       "      <td>2018</td>\n",
       "      <td>Denis</td>\n",
       "      <td>966</td>\n",
       "      <td>\"for their efforts to end the use of sexual vi...</td>\n",
       "      <td>2</td>\n",
       "      <td>Mukwege</td>\n",
       "    </tr>\n",
       "    <tr>\n",
       "      <th>4</th>\n",
       "      <td>economics</td>\n",
       "      <td>[{'id': '968', 'firstname': 'William D.', 'sur...</td>\n",
       "      <td>NaN</td>\n",
       "      <td>2018</td>\n",
       "      <td>William D.</td>\n",
       "      <td>968</td>\n",
       "      <td>\"for integrating climate change into long-run ...</td>\n",
       "      <td>2</td>\n",
       "      <td>Nordhaus</td>\n",
       "    </tr>\n",
       "  </tbody>\n",
       "</table>\n",
       "</div>"
      ],
      "text/plain": [
       "    category                                          laureates  \\\n",
       "0    physics  [{'id': '960', 'firstname': 'Arthur', 'surname...   \n",
       "1  chemistry  [{'id': '963', 'firstname': 'Frances H.', 'sur...   \n",
       "2   medicine  [{'id': '958', 'firstname': 'James P.', 'surna...   \n",
       "3      peace  [{'id': '966', 'firstname': 'Denis', 'surname'...   \n",
       "4  economics  [{'id': '968', 'firstname': 'William D.', 'sur...   \n",
       "\n",
       "                                   overallMotivation  year   firstname   id  \\\n",
       "0  “for groundbreaking inventions in the field of...  2018      Arthur  960   \n",
       "1                                                NaN  2018  Frances H.  963   \n",
       "2                                                NaN  2018    James P.  958   \n",
       "3                                                NaN  2018       Denis  966   \n",
       "4                                                NaN  2018  William D.  968   \n",
       "\n",
       "                                          motivation share   surname  \n",
       "0  \"for the optical tweezers and their applicatio...     2    Ashkin  \n",
       "1            \"for the directed evolution of enzymes\"     2    Arnold  \n",
       "2  \"for their discovery of cancer therapy by inhi...     2   Allison  \n",
       "3  \"for their efforts to end the use of sexual vi...     2   Mukwege  \n",
       "4  \"for integrating climate change into long-run ...     2  Nordhaus  "
      ]
     },
     "execution_count": 321,
     "metadata": {},
     "output_type": "execute_result"
    }
   ],
   "source": [
    "nprize =pd.concat([nobel_df, la_df], axis=1)\n",
    "nprize.head()"
   ]
  },
  {
   "cell_type": "code",
   "execution_count": 322,
   "metadata": {},
   "outputs": [],
   "source": [
    "nprize = nprize.drop(['laureates', 'overallMotivation', 'motivation'], axis=1)"
   ]
  },
  {
   "cell_type": "code",
   "execution_count": 323,
   "metadata": {},
   "outputs": [
    {
     "data": {
      "text/html": [
       "<div>\n",
       "<style scoped>\n",
       "    .dataframe tbody tr th:only-of-type {\n",
       "        vertical-align: middle;\n",
       "    }\n",
       "\n",
       "    .dataframe tbody tr th {\n",
       "        vertical-align: top;\n",
       "    }\n",
       "\n",
       "    .dataframe thead th {\n",
       "        text-align: right;\n",
       "    }\n",
       "</style>\n",
       "<table border=\"1\" class=\"dataframe\">\n",
       "  <thead>\n",
       "    <tr style=\"text-align: right;\">\n",
       "      <th></th>\n",
       "      <th>category</th>\n",
       "      <th>year</th>\n",
       "      <th>firstname</th>\n",
       "      <th>id</th>\n",
       "      <th>share</th>\n",
       "      <th>surname</th>\n",
       "    </tr>\n",
       "  </thead>\n",
       "  <tbody>\n",
       "    <tr>\n",
       "      <th>0</th>\n",
       "      <td>physics</td>\n",
       "      <td>2018</td>\n",
       "      <td>Arthur</td>\n",
       "      <td>960</td>\n",
       "      <td>2</td>\n",
       "      <td>Ashkin</td>\n",
       "    </tr>\n",
       "    <tr>\n",
       "      <th>1</th>\n",
       "      <td>chemistry</td>\n",
       "      <td>2018</td>\n",
       "      <td>Frances H.</td>\n",
       "      <td>963</td>\n",
       "      <td>2</td>\n",
       "      <td>Arnold</td>\n",
       "    </tr>\n",
       "    <tr>\n",
       "      <th>2</th>\n",
       "      <td>medicine</td>\n",
       "      <td>2018</td>\n",
       "      <td>James P.</td>\n",
       "      <td>958</td>\n",
       "      <td>2</td>\n",
       "      <td>Allison</td>\n",
       "    </tr>\n",
       "    <tr>\n",
       "      <th>3</th>\n",
       "      <td>peace</td>\n",
       "      <td>2018</td>\n",
       "      <td>Denis</td>\n",
       "      <td>966</td>\n",
       "      <td>2</td>\n",
       "      <td>Mukwege</td>\n",
       "    </tr>\n",
       "    <tr>\n",
       "      <th>4</th>\n",
       "      <td>economics</td>\n",
       "      <td>2018</td>\n",
       "      <td>William D.</td>\n",
       "      <td>968</td>\n",
       "      <td>2</td>\n",
       "      <td>Nordhaus</td>\n",
       "    </tr>\n",
       "  </tbody>\n",
       "</table>\n",
       "</div>"
      ],
      "text/plain": [
       "    category  year   firstname   id share   surname\n",
       "0    physics  2018      Arthur  960     2    Ashkin\n",
       "1  chemistry  2018  Frances H.  963     2    Arnold\n",
       "2   medicine  2018    James P.  958     2   Allison\n",
       "3      peace  2018       Denis  966     2   Mukwege\n",
       "4  economics  2018  William D.  968     2  Nordhaus"
      ]
     },
     "execution_count": 323,
     "metadata": {},
     "output_type": "execute_result"
    }
   ],
   "source": [
    "nprize.head()"
   ]
  },
  {
   "cell_type": "markdown",
   "metadata": {},
   "source": [
    "After fixing the laureate column data, I had to add it back to the other data. This added the ID, first name, surname, and share columns to the data. After extracting the data, I could drop the data I did not need. I dropped the motivation and overallMotivation columns because I don't need them for the analysis. I also dropped the laureate’s column because that only contained the compressed dictionary data, and after the extraction I did not need it anymore."
   ]
  },
  {
   "cell_type": "code",
   "execution_count": 324,
   "metadata": {},
   "outputs": [
    {
     "name": "stdout",
     "output_type": "stream",
     "text": [
      "<class 'pandas.core.frame.DataFrame'>\n",
      "RangeIndex: 590 entries, 0 to 589\n",
      "Data columns (total 6 columns):\n",
      "category     590 non-null object\n",
      "year         590 non-null object\n",
      "firstname    590 non-null object\n",
      "id           590 non-null object\n",
      "share        590 non-null object\n",
      "surname      590 non-null object\n",
      "dtypes: object(6)\n",
      "memory usage: 27.7+ KB\n"
     ]
    }
   ],
   "source": [
    "nprize.info()"
   ]
  },
  {
   "cell_type": "code",
   "execution_count": 325,
   "metadata": {},
   "outputs": [],
   "source": [
    "nprize[[\"id\",'share','year']] = nprize[[\"id\",'share','year']].apply(pd.to_numeric)"
   ]
  },
  {
   "cell_type": "code",
   "execution_count": 326,
   "metadata": {},
   "outputs": [
    {
     "name": "stdout",
     "output_type": "stream",
     "text": [
      "<class 'pandas.core.frame.DataFrame'>\n",
      "RangeIndex: 590 entries, 0 to 589\n",
      "Data columns (total 6 columns):\n",
      "category     590 non-null object\n",
      "year         590 non-null int64\n",
      "firstname    590 non-null object\n",
      "id           590 non-null int64\n",
      "share        590 non-null int64\n",
      "surname      590 non-null object\n",
      "dtypes: int64(3), object(3)\n",
      "memory usage: 27.7+ KB\n"
     ]
    }
   ],
   "source": [
    "nprize.info()"
   ]
  },
  {
   "cell_type": "code",
   "execution_count": 327,
   "metadata": {},
   "outputs": [],
   "source": [
    "nprize['category'] = nprize['category'].astype('category')"
   ]
  },
  {
   "cell_type": "markdown",
   "metadata": {},
   "source": [
    "I was able to change the data types from objects to integers or category. I did this to make graphing and visualizing the data possible."
   ]
  },
  {
   "cell_type": "code",
   "execution_count": 328,
   "metadata": {},
   "outputs": [
    {
     "data": {
      "text/plain": [
       "<matplotlib.axes._subplots.AxesSubplot at 0x1bc3ed18748>"
      ]
     },
     "execution_count": 328,
     "metadata": {},
     "output_type": "execute_result"
    },
    {
     "data": {
      "image/png": "[encoded data removed]",
      "text/plain": [
       "<Figure size 432x288 with 1 Axes>"
      ]
     },
     "metadata": {},
     "output_type": "display_data"
    }
   ],
   "source": [
    "sns.barplot(nprize.category, nprize.share)"
   ]
  },
  {
   "cell_type": "markdown",
   "metadata": {},
   "source": [
    "This graph represents how many prizes are shared among multiple people across categories. Medicine apparently has more groups of prize winners than literature, which generally just has one. "
   ]
  },
  {
   "cell_type": "code",
   "execution_count": 329,
   "metadata": {},
   "outputs": [
    {
     "data": {
      "text/plain": [
       "<seaborn.axisgrid.FacetGrid at 0x1bc3ed18668>"
      ]
     },
     "execution_count": 329,
     "metadata": {},
     "output_type": "execute_result"
    },
    {
     "data": {
      "image/png": "[encoded data removed]",
      "text/plain": [
       "<Figure size 360x360 with 1 Axes>"
      ]
     },
     "metadata": {},
     "output_type": "display_data"
    }
   ],
   "source": [
    "sns.lmplot(x=\"share\", y=\"year\", data=nprize)"
   ]
  },
  {
   "cell_type": "markdown",
   "metadata": {},
   "source": [
    "This plot shows the positive trend of shared Nobel prizes across time. It is more common today to have groups win the Nobel prize than it was back in the 1900s."
   ]
  },
  {
   "cell_type": "markdown",
   "metadata": {},
   "source": [
    "SQL DATA:"
   ]
  },
  {
   "cell_type": "code",
   "execution_count": 330,
   "metadata": {},
   "outputs": [],
   "source": [
    "import sqlite3\n",
    "import pandas as pd"
   ]
  },
  {
   "cell_type": "code",
   "execution_count": 331,
   "metadata": {},
   "outputs": [
    {
     "data": {
      "text/html": [
       "<div>\n",
       "<style scoped>\n",
       "    .dataframe tbody tr th:only-of-type {\n",
       "        vertical-align: middle;\n",
       "    }\n",
       "\n",
       "    .dataframe tbody tr th {\n",
       "        vertical-align: top;\n",
       "    }\n",
       "\n",
       "    .dataframe thead th {\n",
       "        text-align: right;\n",
       "    }\n",
       "</style>\n",
       "<table border=\"1\" class=\"dataframe\">\n",
       "  <thead>\n",
       "    <tr style=\"text-align: right;\">\n",
       "      <th></th>\n",
       "      <th>Season</th>\n",
       "      <th>TeamName</th>\n",
       "      <th>KaderHome</th>\n",
       "      <th>AvgAgeHome</th>\n",
       "      <th>ForeignPlayersHome</th>\n",
       "      <th>OverallMarketValueHome</th>\n",
       "      <th>AvgMarketValueHome</th>\n",
       "      <th>StadiumCapacity</th>\n",
       "    </tr>\n",
       "  </thead>\n",
       "  <tbody>\n",
       "    <tr>\n",
       "      <th>0</th>\n",
       "      <td>2017</td>\n",
       "      <td>Bayern Munich</td>\n",
       "      <td>27</td>\n",
       "      <td>26</td>\n",
       "      <td>15</td>\n",
       "      <td>597950000</td>\n",
       "      <td>22150000</td>\n",
       "      <td>75000</td>\n",
       "    </tr>\n",
       "    <tr>\n",
       "      <th>1</th>\n",
       "      <td>2017</td>\n",
       "      <td>Dortmund</td>\n",
       "      <td>33</td>\n",
       "      <td>25</td>\n",
       "      <td>18</td>\n",
       "      <td>416730000</td>\n",
       "      <td>12630000</td>\n",
       "      <td>81359</td>\n",
       "    </tr>\n",
       "    <tr>\n",
       "      <th>2</th>\n",
       "      <td>2017</td>\n",
       "      <td>Leverkusen</td>\n",
       "      <td>31</td>\n",
       "      <td>24</td>\n",
       "      <td>15</td>\n",
       "      <td>222600000</td>\n",
       "      <td>7180000</td>\n",
       "      <td>30210</td>\n",
       "    </tr>\n",
       "    <tr>\n",
       "      <th>3</th>\n",
       "      <td>2017</td>\n",
       "      <td>RB Leipzig</td>\n",
       "      <td>30</td>\n",
       "      <td>23</td>\n",
       "      <td>15</td>\n",
       "      <td>180130000</td>\n",
       "      <td>6000000</td>\n",
       "      <td>42959</td>\n",
       "    </tr>\n",
       "    <tr>\n",
       "      <th>4</th>\n",
       "      <td>2017</td>\n",
       "      <td>Schalke 04</td>\n",
       "      <td>29</td>\n",
       "      <td>24</td>\n",
       "      <td>17</td>\n",
       "      <td>179550000</td>\n",
       "      <td>6190000</td>\n",
       "      <td>62271</td>\n",
       "    </tr>\n",
       "  </tbody>\n",
       "</table>\n",
       "</div>"
      ],
      "text/plain": [
       "  Season       TeamName KaderHome AvgAgeHome ForeignPlayersHome  \\\n",
       "0   2017  Bayern Munich        27         26                 15   \n",
       "1   2017       Dortmund        33         25                 18   \n",
       "2   2017     Leverkusen        31         24                 15   \n",
       "3   2017     RB Leipzig        30         23                 15   \n",
       "4   2017     Schalke 04        29         24                 17   \n",
       "\n",
       "  OverallMarketValueHome AvgMarketValueHome StadiumCapacity  \n",
       "0              597950000           22150000           75000  \n",
       "1              416730000           12630000           81359  \n",
       "2              222600000            7180000           30210  \n",
       "3              180130000            6000000           42959  \n",
       "4              179550000            6190000           62271  "
      ]
     },
     "execution_count": 331,
     "metadata": {},
     "output_type": "execute_result"
    }
   ],
   "source": [
    "conn = sqlite3.connect(\"C:\\\\Users\\\\achri\\\\Downloads\\\\footballdelphi\\\\database.sqlite\")\n",
    "del_df = pd.read_sql_query(\"select * from Teams;\", conn)\n",
    "del_df.head()"
   ]
  },
  {
   "cell_type": "code",
   "execution_count": 332,
   "metadata": {},
   "outputs": [
    {
     "data": {
      "text/html": [
       "<div>\n",
       "<style scoped>\n",
       "    .dataframe tbody tr th:only-of-type {\n",
       "        vertical-align: middle;\n",
       "    }\n",
       "\n",
       "    .dataframe tbody tr th {\n",
       "        vertical-align: top;\n",
       "    }\n",
       "\n",
       "    .dataframe thead th {\n",
       "        text-align: right;\n",
       "    }\n",
       "</style>\n",
       "<table border=\"1\" class=\"dataframe\">\n",
       "  <thead>\n",
       "    <tr style=\"text-align: right;\">\n",
       "      <th></th>\n",
       "      <th>Match_ID</th>\n",
       "      <th>Div</th>\n",
       "      <th>Season</th>\n",
       "      <th>Date</th>\n",
       "      <th>HomeTeam</th>\n",
       "      <th>AwayTeam</th>\n",
       "      <th>FTHG</th>\n",
       "      <th>FTAG</th>\n",
       "      <th>FTR</th>\n",
       "    </tr>\n",
       "  </thead>\n",
       "  <tbody>\n",
       "    <tr>\n",
       "      <th>0</th>\n",
       "      <td>1</td>\n",
       "      <td>D2</td>\n",
       "      <td>2009</td>\n",
       "      <td>2010-04-04</td>\n",
       "      <td>Oberhausen</td>\n",
       "      <td>Kaiserslautern</td>\n",
       "      <td>2</td>\n",
       "      <td>1</td>\n",
       "      <td>H</td>\n",
       "    </tr>\n",
       "    <tr>\n",
       "      <th>1</th>\n",
       "      <td>2</td>\n",
       "      <td>D2</td>\n",
       "      <td>2009</td>\n",
       "      <td>2009-11-01</td>\n",
       "      <td>Munich 1860</td>\n",
       "      <td>Kaiserslautern</td>\n",
       "      <td>0</td>\n",
       "      <td>1</td>\n",
       "      <td>A</td>\n",
       "    </tr>\n",
       "    <tr>\n",
       "      <th>2</th>\n",
       "      <td>3</td>\n",
       "      <td>D2</td>\n",
       "      <td>2009</td>\n",
       "      <td>2009-10-04</td>\n",
       "      <td>Frankfurt FSV</td>\n",
       "      <td>Kaiserslautern</td>\n",
       "      <td>1</td>\n",
       "      <td>1</td>\n",
       "      <td>D</td>\n",
       "    </tr>\n",
       "    <tr>\n",
       "      <th>3</th>\n",
       "      <td>4</td>\n",
       "      <td>D2</td>\n",
       "      <td>2009</td>\n",
       "      <td>2010-02-21</td>\n",
       "      <td>Frankfurt FSV</td>\n",
       "      <td>Karlsruhe</td>\n",
       "      <td>2</td>\n",
       "      <td>1</td>\n",
       "      <td>H</td>\n",
       "    </tr>\n",
       "    <tr>\n",
       "      <th>4</th>\n",
       "      <td>5</td>\n",
       "      <td>D2</td>\n",
       "      <td>2009</td>\n",
       "      <td>2009-12-06</td>\n",
       "      <td>Ahlen</td>\n",
       "      <td>Karlsruhe</td>\n",
       "      <td>1</td>\n",
       "      <td>3</td>\n",
       "      <td>A</td>\n",
       "    </tr>\n",
       "  </tbody>\n",
       "</table>\n",
       "</div>"
      ],
      "text/plain": [
       "   Match_ID Div  Season        Date       HomeTeam        AwayTeam  FTHG  \\\n",
       "0         1  D2    2009  2010-04-04     Oberhausen  Kaiserslautern     2   \n",
       "1         2  D2    2009  2009-11-01    Munich 1860  Kaiserslautern     0   \n",
       "2         3  D2    2009  2009-10-04  Frankfurt FSV  Kaiserslautern     1   \n",
       "3         4  D2    2009  2010-02-21  Frankfurt FSV       Karlsruhe     2   \n",
       "4         5  D2    2009  2009-12-06          Ahlen       Karlsruhe     1   \n",
       "\n",
       "   FTAG FTR  \n",
       "0     1   H  \n",
       "1     1   A  \n",
       "2     1   D  \n",
       "3     1   H  \n",
       "4     3   A  "
      ]
     },
     "execution_count": 332,
     "metadata": {},
     "output_type": "execute_result"
    }
   ],
   "source": [
    "mat_df = pd.read_sql_query(\"select * from Matches;\", conn)\n",
    "mat_df.head()"
   ]
  },
  {
   "cell_type": "code",
   "execution_count": 333,
   "metadata": {},
   "outputs": [
    {
     "data": {
      "text/html": [
       "<div>\n",
       "<style scoped>\n",
       "    .dataframe tbody tr th:only-of-type {\n",
       "        vertical-align: middle;\n",
       "    }\n",
       "\n",
       "    .dataframe tbody tr th {\n",
       "        vertical-align: top;\n",
       "    }\n",
       "\n",
       "    .dataframe thead th {\n",
       "        text-align: right;\n",
       "    }\n",
       "</style>\n",
       "<table border=\"1\" class=\"dataframe\">\n",
       "  <thead>\n",
       "    <tr style=\"text-align: right;\">\n",
       "      <th></th>\n",
       "      <th>Match_ID</th>\n",
       "      <th>FTHG</th>\n",
       "      <th>FTAG</th>\n",
       "      <th>FTR</th>\n",
       "    </tr>\n",
       "  </thead>\n",
       "  <tbody>\n",
       "    <tr>\n",
       "      <th>0</th>\n",
       "      <td>1</td>\n",
       "      <td>2</td>\n",
       "      <td>1</td>\n",
       "      <td>H</td>\n",
       "    </tr>\n",
       "    <tr>\n",
       "      <th>1</th>\n",
       "      <td>2</td>\n",
       "      <td>0</td>\n",
       "      <td>1</td>\n",
       "      <td>A</td>\n",
       "    </tr>\n",
       "    <tr>\n",
       "      <th>2</th>\n",
       "      <td>3</td>\n",
       "      <td>1</td>\n",
       "      <td>1</td>\n",
       "      <td>D</td>\n",
       "    </tr>\n",
       "    <tr>\n",
       "      <th>3</th>\n",
       "      <td>4</td>\n",
       "      <td>2</td>\n",
       "      <td>1</td>\n",
       "      <td>H</td>\n",
       "    </tr>\n",
       "    <tr>\n",
       "      <th>4</th>\n",
       "      <td>5</td>\n",
       "      <td>1</td>\n",
       "      <td>3</td>\n",
       "      <td>A</td>\n",
       "    </tr>\n",
       "    <tr>\n",
       "      <th>5</th>\n",
       "      <td>6</td>\n",
       "      <td>1</td>\n",
       "      <td>1</td>\n",
       "      <td>D</td>\n",
       "    </tr>\n",
       "    <tr>\n",
       "      <th>6</th>\n",
       "      <td>7</td>\n",
       "      <td>2</td>\n",
       "      <td>0</td>\n",
       "      <td>H</td>\n",
       "    </tr>\n",
       "    <tr>\n",
       "      <th>7</th>\n",
       "      <td>8</td>\n",
       "      <td>0</td>\n",
       "      <td>1</td>\n",
       "      <td>A</td>\n",
       "    </tr>\n",
       "    <tr>\n",
       "      <th>8</th>\n",
       "      <td>9</td>\n",
       "      <td>2</td>\n",
       "      <td>0</td>\n",
       "      <td>H</td>\n",
       "    </tr>\n",
       "    <tr>\n",
       "      <th>9</th>\n",
       "      <td>10</td>\n",
       "      <td>2</td>\n",
       "      <td>1</td>\n",
       "      <td>H</td>\n",
       "    </tr>\n",
       "  </tbody>\n",
       "</table>\n",
       "</div>"
      ],
      "text/plain": [
       "   Match_ID  FTHG  FTAG FTR\n",
       "0         1     2     1   H\n",
       "1         2     0     1   A\n",
       "2         3     1     1   D\n",
       "3         4     2     1   H\n",
       "4         5     1     3   A\n",
       "5         6     1     1   D\n",
       "6         7     2     0   H\n",
       "7         8     0     1   A\n",
       "8         9     2     0   H\n",
       "9        10     2     1   H"
      ]
     },
     "execution_count": 333,
     "metadata": {},
     "output_type": "execute_result"
    }
   ],
   "source": [
    "pd.read_sql_query(\"\"\"select Match_ID, FTHG, FTAG, FTR from Matches\n",
    "                    group by Match_ID \n",
    "                    order by MAtch_ID\n",
    "                    limit 10\"\"\", conn)"
   ]
  },
  {
   "cell_type": "code",
   "execution_count": 334,
   "metadata": {},
   "outputs": [
    {
     "name": "stdout",
     "output_type": "stream",
     "text": [
      "<class 'pandas.core.frame.DataFrame'>\n",
      "RangeIndex: 468 entries, 0 to 467\n",
      "Data columns (total 8 columns):\n",
      "Season                    468 non-null object\n",
      "TeamName                  468 non-null object\n",
      "KaderHome                 468 non-null object\n",
      "AvgAgeHome                468 non-null object\n",
      "ForeignPlayersHome        468 non-null object\n",
      "OverallMarketValueHome    468 non-null object\n",
      "AvgMarketValueHome        468 non-null object\n",
      "StadiumCapacity           468 non-null object\n",
      "dtypes: object(8)\n",
      "memory usage: 29.3+ KB\n"
     ]
    }
   ],
   "source": [
    "del_df.info()"
   ]
  },
  {
   "cell_type": "code",
   "execution_count": 335,
   "metadata": {},
   "outputs": [],
   "source": [
    "del_df['KaderHome'] = pd.to_numeric(del_df['KaderHome'])\n",
    "del_df['AvgAgeHome'] = pd.to_numeric(del_df['AvgAgeHome'])\n",
    "del_df['ForeignPlayersHome'] = pd.to_numeric(del_df['ForeignPlayersHome'])\n",
    "del_df['OverallMarketValueHome'] = pd.to_numeric(del_df['OverallMarketValueHome'])\n",
    "del_df['AvgMarketValueHome'] = pd.to_numeric(del_df['AvgMarketValueHome'])\n",
    "del_df['StadiumCapacity'] = pd.to_numeric(del_df['StadiumCapacity'])"
   ]
  },
  {
   "cell_type": "code",
   "execution_count": 336,
   "metadata": {},
   "outputs": [
    {
     "name": "stdout",
     "output_type": "stream",
     "text": [
      "<class 'pandas.core.frame.DataFrame'>\n",
      "RangeIndex: 468 entries, 0 to 467\n",
      "Data columns (total 8 columns):\n",
      "Season                    468 non-null object\n",
      "TeamName                  468 non-null object\n",
      "KaderHome                 468 non-null int64\n",
      "AvgAgeHome                468 non-null int64\n",
      "ForeignPlayersHome        468 non-null int64\n",
      "OverallMarketValueHome    468 non-null int64\n",
      "AvgMarketValueHome        468 non-null int64\n",
      "StadiumCapacity           468 non-null int64\n",
      "dtypes: int64(6), object(2)\n",
      "memory usage: 29.3+ KB\n"
     ]
    }
   ],
   "source": [
    "del_df.info()"
   ]
  },
  {
   "cell_type": "code",
   "execution_count": 337,
   "metadata": {},
   "outputs": [
    {
     "data": {
      "text/plain": [
       "Index([], dtype='object')"
      ]
     },
     "execution_count": 337,
     "metadata": {},
     "output_type": "execute_result"
    }
   ],
   "source": [
    "del_df.columns[del_df.isnull().any()]"
   ]
  },
  {
   "cell_type": "markdown",
   "metadata": {},
   "source": [
    "I used the above code to test if there were any missing values in the data set. Luckily, there are none so no need to drop anything. I test for outliers below."
   ]
  },
  {
   "cell_type": "code",
   "execution_count": 338,
   "metadata": {},
   "outputs": [
    {
     "data": {
      "text/html": [
       "<div>\n",
       "<style scoped>\n",
       "    .dataframe tbody tr th:only-of-type {\n",
       "        vertical-align: middle;\n",
       "    }\n",
       "\n",
       "    .dataframe tbody tr th {\n",
       "        vertical-align: top;\n",
       "    }\n",
       "\n",
       "    .dataframe thead th {\n",
       "        text-align: right;\n",
       "    }\n",
       "</style>\n",
       "<table border=\"1\" class=\"dataframe\">\n",
       "  <thead>\n",
       "    <tr style=\"text-align: right;\">\n",
       "      <th></th>\n",
       "      <th>KaderHome</th>\n",
       "      <th>AvgAgeHome</th>\n",
       "      <th>ForeignPlayersHome</th>\n",
       "      <th>OverallMarketValueHome</th>\n",
       "      <th>AvgMarketValueHome</th>\n",
       "      <th>StadiumCapacity</th>\n",
       "    </tr>\n",
       "  </thead>\n",
       "  <tbody>\n",
       "    <tr>\n",
       "      <th>0.25</th>\n",
       "      <td>29.0</td>\n",
       "      <td>24.0</td>\n",
       "      <td>10.750</td>\n",
       "      <td>15322500.0</td>\n",
       "      <td>505500.0</td>\n",
       "      <td>47728.0</td>\n",
       "    </tr>\n",
       "    <tr>\n",
       "      <th>0.75</th>\n",
       "      <td>33.0</td>\n",
       "      <td>25.0</td>\n",
       "      <td>17.000</td>\n",
       "      <td>74870000.0</td>\n",
       "      <td>2300000.0</td>\n",
       "      <td>49827.0</td>\n",
       "    </tr>\n",
       "    <tr>\n",
       "      <th>iqr</th>\n",
       "      <td>4.0</td>\n",
       "      <td>1.0</td>\n",
       "      <td>6.250</td>\n",
       "      <td>59547500.0</td>\n",
       "      <td>1794500.0</td>\n",
       "      <td>2099.0</td>\n",
       "    </tr>\n",
       "    <tr>\n",
       "      <th>whisker_length</th>\n",
       "      <td>6.0</td>\n",
       "      <td>1.5</td>\n",
       "      <td>9.375</td>\n",
       "      <td>89321250.0</td>\n",
       "      <td>2691750.0</td>\n",
       "      <td>3148.5</td>\n",
       "    </tr>\n",
       "    <tr>\n",
       "      <th>max_whisker</th>\n",
       "      <td>39.0</td>\n",
       "      <td>26.5</td>\n",
       "      <td>26.375</td>\n",
       "      <td>164191250.0</td>\n",
       "      <td>4991750.0</td>\n",
       "      <td>52975.5</td>\n",
       "    </tr>\n",
       "    <tr>\n",
       "      <th>min_whisker</th>\n",
       "      <td>23.0</td>\n",
       "      <td>22.5</td>\n",
       "      <td>1.375</td>\n",
       "      <td>-73998750.0</td>\n",
       "      <td>-2186250.0</td>\n",
       "      <td>44579.5</td>\n",
       "    </tr>\n",
       "  </tbody>\n",
       "</table>\n",
       "</div>"
      ],
      "text/plain": [
       "                KaderHome  AvgAgeHome  ForeignPlayersHome  \\\n",
       "0.25                 29.0        24.0              10.750   \n",
       "0.75                 33.0        25.0              17.000   \n",
       "iqr                   4.0         1.0               6.250   \n",
       "whisker_length        6.0         1.5               9.375   \n",
       "max_whisker          39.0        26.5              26.375   \n",
       "min_whisker          23.0        22.5               1.375   \n",
       "\n",
       "                OverallMarketValueHome  AvgMarketValueHome  StadiumCapacity  \n",
       "0.25                        15322500.0            505500.0          47728.0  \n",
       "0.75                        74870000.0           2300000.0          49827.0  \n",
       "iqr                         59547500.0           1794500.0           2099.0  \n",
       "whisker_length              89321250.0           2691750.0           3148.5  \n",
       "max_whisker                164191250.0           4991750.0          52975.5  \n",
       "min_whisker                -73998750.0          -2186250.0          44579.5  "
      ]
     },
     "execution_count": 338,
     "metadata": {},
     "output_type": "execute_result"
    }
   ],
   "source": [
    "q_df = del_df.quantile([.25, .75])\n",
    "q_df.loc['iqr'] = q_df.loc[0.75] - q_df.loc[0.25]\n",
    "q_df.loc['whisker_length'] = 1.5 * q_df.loc['iqr']\n",
    "q_df.loc['max_whisker'] = q_df.loc['whisker_length'] + q_df.loc[0.75]\n",
    "q_df.loc['min_whisker'] = q_df.loc[0.25] - q_df.loc['whisker_length']\n",
    "q_df"
   ]
  },
  {
   "cell_type": "markdown",
   "metadata": {},
   "source": [
    "This chart shows the max and min values of each observation in the data table. This way I can check to see if these values fall outside three standard deviations of the mean. If they do I will drop them from the data."
   ]
  },
  {
   "cell_type": "code",
   "execution_count": 339,
   "metadata": {},
   "outputs": [
    {
     "data": {
      "text/plain": [
       "3.689485778947354"
      ]
     },
     "execution_count": 339,
     "metadata": {},
     "output_type": "execute_result"
    }
   ],
   "source": [
    "std_KaderHome = del_df['KaderHome'].std()\n",
    "std_KaderHome"
   ]
  },
  {
   "cell_type": "code",
   "execution_count": 340,
   "metadata": {},
   "outputs": [
    {
     "data": {
      "text/plain": [
       "42.50221802060275"
      ]
     },
     "execution_count": 340,
     "metadata": {},
     "output_type": "execute_result"
    }
   ],
   "source": [
    "max_outlier_KaderHome_value = del_df['KaderHome'].mean() + (std_KaderHome * 3)\n",
    "max_outlier_KaderHome_value"
   ]
  },
  {
   "cell_type": "code",
   "execution_count": 341,
   "metadata": {},
   "outputs": [
    {
     "data": {
      "text/plain": [
       "20.365303346918623"
      ]
     },
     "execution_count": 341,
     "metadata": {},
     "output_type": "execute_result"
    }
   ],
   "source": [
    "max_outlier_KaderHome_value = del_df['KaderHome'].mean() - (std_KaderHome * 3)\n",
    "max_outlier_KaderHome_value"
   ]
  },
  {
   "cell_type": "code",
   "execution_count": 342,
   "metadata": {},
   "outputs": [
    {
     "data": {
      "text/plain": [
       "1.0175710630846935"
      ]
     },
     "execution_count": 342,
     "metadata": {},
     "output_type": "execute_result"
    }
   ],
   "source": [
    "std_AvgAgeHome = del_df['AvgAgeHome'].std()\n",
    "std_AvgAgeHome"
   ]
  },
  {
   "cell_type": "code",
   "execution_count": 343,
   "metadata": {},
   "outputs": [
    {
     "data": {
      "text/plain": [
       "27.60826874480964"
      ]
     },
     "execution_count": 343,
     "metadata": {},
     "output_type": "execute_result"
    }
   ],
   "source": [
    "max_outlier_AvgAgeHome_value = del_df['AvgAgeHome'].mean() + (std_AvgAgeHome * 3)\n",
    "max_outlier_AvgAgeHome_value"
   ]
  },
  {
   "cell_type": "code",
   "execution_count": 344,
   "metadata": {},
   "outputs": [
    {
     "data": {
      "text/plain": [
       "21.502842366301476"
      ]
     },
     "execution_count": 344,
     "metadata": {},
     "output_type": "execute_result"
    }
   ],
   "source": [
    "max_outlier_AvgAgeHome_value = del_df['AvgAgeHome'].mean() - (std_AvgAgeHome * 3)\n",
    "max_outlier_AvgAgeHome_value"
   ]
  },
  {
   "cell_type": "code",
   "execution_count": 345,
   "metadata": {},
   "outputs": [
    {
     "data": {
      "text/plain": [
       "4.711153367264869"
      ]
     },
     "execution_count": 345,
     "metadata": {},
     "output_type": "execute_result"
    }
   ],
   "source": [
    "std_ForeignPlayersHome = del_df['ForeignPlayersHome'].std()\n",
    "std_ForeignPlayersHome"
   ]
  },
  {
   "cell_type": "code",
   "execution_count": 346,
   "metadata": {},
   "outputs": [
    {
     "data": {
      "text/plain": [
       "27.763801982136485"
      ]
     },
     "execution_count": 346,
     "metadata": {},
     "output_type": "execute_result"
    }
   ],
   "source": [
    "max_outlier_ForeignPlayersHome_value = del_df['ForeignPlayersHome'].mean() + (std_ForeignPlayersHome * 3)\n",
    "max_outlier_ForeignPlayersHome_value"
   ]
  },
  {
   "cell_type": "code",
   "execution_count": 347,
   "metadata": {},
   "outputs": [
    {
     "data": {
      "text/plain": [
       "-0.5031182214527252"
      ]
     },
     "execution_count": 347,
     "metadata": {},
     "output_type": "execute_result"
    }
   ],
   "source": [
    "max_outlier_ForeignPlayersHome_value = del_df['ForeignPlayersHome'].mean() - (std_ForeignPlayersHome * 3)\n",
    "max_outlier_ForeignPlayersHome_value"
   ]
  },
  {
   "cell_type": "code",
   "execution_count": 348,
   "metadata": {},
   "outputs": [
    {
     "data": {
      "text/plain": [
       "82203101.17631589"
      ]
     },
     "execution_count": 348,
     "metadata": {},
     "output_type": "execute_result"
    }
   ],
   "source": [
    "std_OverallMarketValueHome = del_df['OverallMarketValueHome'].std()\n",
    "std_OverallMarketValueHome"
   ]
  },
  {
   "cell_type": "code",
   "execution_count": 349,
   "metadata": {},
   "outputs": [
    {
     "data": {
      "text/plain": [
       "307417829.1699733"
      ]
     },
     "execution_count": 349,
     "metadata": {},
     "output_type": "execute_result"
    }
   ],
   "source": [
    "max_outlier_OverallMarketValueHome_value = del_df['OverallMarketValueHome'].mean() + (std_OverallMarketValueHome * 3)\n",
    "max_outlier_OverallMarketValueHome_value"
   ]
  },
  {
   "cell_type": "code",
   "execution_count": 350,
   "metadata": {},
   "outputs": [
    {
     "data": {
      "text/plain": [
       "-185800777.88792202"
      ]
     },
     "execution_count": 350,
     "metadata": {},
     "output_type": "execute_result"
    }
   ],
   "source": [
    "max_outlier_OverallMarketValueHome_value = del_df['OverallMarketValueHome'].mean() - (std_OverallMarketValueHome * 3)\n",
    "max_outlier_OverallMarketValueHome_value"
   ]
  },
  {
   "cell_type": "code",
   "execution_count": 351,
   "metadata": {},
   "outputs": [
    {
     "data": {
      "text/plain": [
       "2665017.3921344006"
      ]
     },
     "execution_count": 351,
     "metadata": {},
     "output_type": "execute_result"
    }
   ],
   "source": [
    "std_AvgMarketValueHome = del_df['AvgMarketValueHome'].std()\n",
    "std_AvgMarketValueHome"
   ]
  },
  {
   "cell_type": "code",
   "execution_count": 352,
   "metadata": {},
   "outputs": [
    {
     "data": {
      "text/plain": [
       "9926321.407172432"
      ]
     },
     "execution_count": 352,
     "metadata": {},
     "output_type": "execute_result"
    }
   ],
   "source": [
    "max_outlier_AvgMarketValueHome_value = del_df['AvgMarketValueHome'].mean() + (std_AvgMarketValueHome * 3)\n",
    "max_outlier_AvgMarketValueHome_value"
   ]
  },
  {
   "cell_type": "code",
   "execution_count": 353,
   "metadata": {},
   "outputs": [
    {
     "data": {
      "text/plain": [
       "-6063782.945633971"
      ]
     },
     "execution_count": 353,
     "metadata": {},
     "output_type": "execute_result"
    }
   ],
   "source": [
    "max_outlier_AvgMarketValueHome_value = del_df['AvgMarketValueHome'].mean() - (std_AvgMarketValueHome * 3)\n",
    "max_outlier_AvgMarketValueHome_value"
   ]
  },
  {
   "cell_type": "code",
   "execution_count": 354,
   "metadata": {},
   "outputs": [
    {
     "data": {
      "text/plain": [
       "12483.479139651408"
      ]
     },
     "execution_count": 354,
     "metadata": {},
     "output_type": "execute_result"
    }
   ],
   "source": [
    "std_StadiumCapacity = del_df['StadiumCapacity'].std()\n",
    "std_StadiumCapacity"
   ]
  },
  {
   "cell_type": "code",
   "execution_count": 355,
   "metadata": {},
   "outputs": [
    {
     "data": {
      "text/plain": [
       "85178.53143604824"
      ]
     },
     "execution_count": 355,
     "metadata": {},
     "output_type": "execute_result"
    }
   ],
   "source": [
    "max_outlier_StadiumCapacity_value = del_df['StadiumCapacity'].mean() + (std_StadiumCapacity * 3)\n",
    "max_outlier_StadiumCapacity_value"
   ]
  },
  {
   "cell_type": "code",
   "execution_count": 356,
   "metadata": {},
   "outputs": [
    {
     "data": {
      "text/plain": [
       "10277.656598139787"
      ]
     },
     "execution_count": 356,
     "metadata": {},
     "output_type": "execute_result"
    }
   ],
   "source": [
    "max_outlier_StadiumCapacity_value = del_df['StadiumCapacity'].mean() - (std_StadiumCapacity * 3)\n",
    "max_outlier_StadiumCapacity_value"
   ]
  },
  {
   "cell_type": "markdown",
   "metadata": {},
   "source": [
    "This probably wasn't the most efficient way to test if there were any outliers, but I tested each variable to see if it was outside three standard deviations from the average. None of the observations fall outside of that range, so I will not need to drop any observations."
   ]
  },
  {
   "cell_type": "code",
   "execution_count": 357,
   "metadata": {},
   "outputs": [],
   "source": [
    "import seaborn as sns"
   ]
  },
  {
   "cell_type": "code",
   "execution_count": 358,
   "metadata": {},
   "outputs": [
    {
     "data": {
      "text/plain": [
       "<matplotlib.axes._subplots.AxesSubplot at 0x1bc3fdcb4a8>"
      ]
     },
     "execution_count": 358,
     "metadata": {},
     "output_type": "execute_result"
    },
    {
     "data": {
      "image/png": "[encoded data removed]",
      "text/plain": [
       "<Figure size 432x288 with 1 Axes>"
      ]
     },
     "metadata": {},
     "output_type": "display_data"
    }
   ],
   "source": [
    "sns.distplot(del_df.ForeignPlayersHome, kde=True)"
   ]
  },
  {
   "cell_type": "markdown",
   "metadata": {},
   "source": [
    "This represents the distribution of foreign players on any specific team. It is easy to see that the distribution is normal and the mean falls around 15 foreign players."
   ]
  },
  {
   "cell_type": "code",
   "execution_count": 359,
   "metadata": {},
   "outputs": [
    {
     "data": {
      "text/plain": [
       "<seaborn.axisgrid.FacetGrid at 0x1bc3c294518>"
      ]
     },
     "execution_count": 359,
     "metadata": {},
     "output_type": "execute_result"
    },
    {
     "data": {
      "image/png": "[encoded data removed]",
      "text/plain": [
       "<Figure size 360x360 with 1 Axes>"
      ]
     },
     "metadata": {},
     "output_type": "display_data"
    }
   ],
   "source": [
    "sns.lmplot(x=\"AvgAgeHome\", y=\"AvgMarketValueHome\", data=del_df)"
   ]
  },
  {
   "cell_type": "markdown",
   "metadata": {},
   "source": [
    "This is interesting. The average age of a player has a negative relationship with the average market value of the team. I makes sense becuase older players are worth less than new, upcoming stars on average. "
   ]
  },
  {
   "cell_type": "code",
   "execution_count": 360,
   "metadata": {
    "scrolled": true
   },
   "outputs": [
    {
     "data": {
      "text/plain": [
       "<seaborn.axisgrid.FacetGrid at 0x1bc3f689ac8>"
      ]
     },
     "execution_count": 360,
     "metadata": {},
     "output_type": "execute_result"
    },
    {
     "data": {
      "image/png": "[encoded data removed]",
      "text/plain": [
       "<Figure size 360x360 with 1 Axes>"
      ]
     },
     "metadata": {},
     "output_type": "display_data"
    }
   ],
   "source": [
    "sns.lmplot(x=\"ForeignPlayersHome\", y=\"AvgMarketValueHome\", data=del_df)"
   ]
  },
  {
   "cell_type": "markdown",
   "metadata": {},
   "source": [
    "On the other hand hte number of foreigh players on a team has a positive relationship with the average market value. I would guess that would be because foreign players are likely star players that the team had to trade to get most of the time. Meaning they are high calibur, talented players that will make the team better."
   ]
  },
  {
   "cell_type": "code",
   "execution_count": null,
   "metadata": {},
   "outputs": [],
   "source": []
  }
 ],
 "metadata": {
  "kernelspec": {
   "display_name": "Python 3",
   "language": "python",
   "name": "python3"
  },
  "language_info": {
   "codemirror_mode": {
    "name": "ipython",
    "version": 3
   },
   "file_extension": ".py",
   "mimetype": "text/x-python",
   "name": "python",
   "nbconvert_exporter": "python",
   "pygments_lexer": "ipython3",
   "version": "3.7.1"
  }
 },
 "nbformat": 4,
 "nbformat_minor": 2
}
